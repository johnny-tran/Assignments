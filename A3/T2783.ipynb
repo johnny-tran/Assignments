{
 "cells": [
  {
   "cell_type": "markdown",
   "metadata": {
    "deletable": false,
    "editable": false,
    "nbgrader": {
     "grade": false,
     "grade_id": "title",
     "locked": true,
     "schema_version": 1,
     "solution": false
    }
   },
   "source": [
    "# COGS 108 - Assignment 3: Data Privacy"
   ]
  },
  {
   "cell_type": "markdown",
   "metadata": {
    "deletable": false,
    "editable": false,
    "nbgrader": {
     "grade": false,
     "grade_id": "important",
     "locked": true,
     "schema_version": 1,
     "solution": false
    }
   },
   "source": [
    "# Important Reminders\n",
    "\n",
    "**You must submit this file (`A3_DataPrivacy.ipynb`) to TritonED to finish the homework.**\n",
    "\n",
    "This assignment has hidden tests - tests that are not visible here but that will be run on your submitted assignment.\n",
    "- This means passing all the tests you can see in the notebook here does not guarantee you have the right answer!\n",
    "\n",
    "Use the Tutorials notebooks as reference, as they often contain similar examples to those used in the assignment."
   ]
  },
  {
   "cell_type": "markdown",
   "metadata": {
    "deletable": false,
    "editable": false,
    "nbgrader": {
     "grade": false,
     "grade_id": "overview",
     "locked": true,
     "schema_version": 1,
     "solution": false
    }
   },
   "source": [
    "## Overview\n",
    "\n",
    "We have discussed in lecture the importance and the mechanics of protecting individuals privacy when they are included in datasets. \n",
    "\n",
    "One method to do so is the Safe Harbor Method. The Safe Harbour method specifies how to protect individual's identities by telling us which tells us which information to remove from a dataset in order to avoid accidently disclosing personal information. \n",
    "\n",
    "In this assignment, we will explore web scraping, which can often include personally identifiable information, how identity can be decoded from badly anonymized datasets, and also explore using Safe Harbour to anonymize datasets properly. \n",
    "\n",
    "The topics covered in this assignment are mainly covered in the 'DataGathering' and 'DataPrivacy&Anonymization' Tutorial notebooks."
   ]
  },
  {
   "cell_type": "markdown",
   "metadata": {
    "deletable": false,
    "editable": false,
    "nbgrader": {
     "grade": false,
     "grade_id": "cell-b169d37fcae03fbc",
     "locked": true,
     "schema_version": 1,
     "solution": false
    }
   },
   "source": [
    "### Installing new packages\n",
    "\n",
    "In the first part of the assignment we will understand how we can scrape the web for data. You have to use the Beautiful Soup library in Python for scraping the data. \n",
    "\n",
    "The library is not installed in Anaconda version, therefore to install a new library for Anaconda, we can use the conda package manager, which the cell below does for you. "
   ]
  },
  {
   "cell_type": "code",
   "execution_count": 1,
   "metadata": {},
   "outputs": [
    {
     "name": "stdout",
     "output_type": "stream",
     "text": [
      "Collecting package metadata: done\n",
      "Solving environment: done\n",
      "\n",
      "# All requested packages already installed.\n",
      "\n"
     ]
    }
   ],
   "source": [
    "# Run this cell to install beautifulsoup4\n",
    "#  You only need to do the installation once\n",
    "#    Once you have run it you can comment these two lines so that the cell doesn't execute everytime.\n",
    "import sys\n",
    "!conda install --yes --prefix {sys.prefix} beautifulsoup4"
   ]
  },
  {
   "cell_type": "code",
   "execution_count": 2,
   "metadata": {
    "deletable": false,
    "editable": false,
    "nbgrader": {
     "grade": false,
     "grade_id": "import-code",
     "locked": true,
     "schema_version": 1,
     "solution": false
    }
   },
   "outputs": [],
   "source": [
    "# Imports - these provided for you. Do not import any other packages\n",
    "import pandas as pd\n",
    "import requests\n",
    "import bs4\n",
    "from bs4 import BeautifulSoup"
   ]
  },
  {
   "cell_type": "markdown",
   "metadata": {
    "deletable": false,
    "editable": false,
    "nbgrader": {
     "grade": false,
     "grade_id": "cell-25153cbdcaad4068",
     "locked": true,
     "schema_version": 1,
     "solution": false
    }
   },
   "source": [
    "## Part 1: Web Scraping "
   ]
  },
  {
   "cell_type": "markdown",
   "metadata": {
    "deletable": false,
    "editable": false,
    "nbgrader": {
     "grade": false,
     "grade_id": "cell-76ae256b5f7132b6",
     "locked": true,
     "schema_version": 1,
     "solution": false
    }
   },
   "source": [
    "### Scraping Rules\n",
    "\n",
    "1) If you are using another organizations website for scraping, make sure to check the website's terms & conditions. \n",
    "\n",
    "2) Do not request data from the website too aggressively (quickly) with your program (also known as spamming), as this may break the website. Make sure your program behaves in a reasonable manner (i.e. acts like a human). One request for one webpage per second is good practice.\n",
    "\n",
    "3) The layout of a website may change from time to time. Because of this, if you're scraping website, make sure to revisit the site and rewrite your code as needed."
   ]
  },
  {
   "cell_type": "markdown",
   "metadata": {},
   "source": [
    "### 1a) Web Scrape\n",
    "\n",
    "We will first retrieve the contents on a page and examine them a bit.\n",
    "\n",
    "Make a variable called 'wiki', that stores the following URL (as a string):\n",
    "'https://en.wikipedia.org/wiki/List_of_U.S._states_and_territories_by_population'\n",
    "\n",
    "To open the URL you can use 'requests.get' as shown in the cell above. Call this variable 'page'\n",
    "After that use BeautifulSoup Library to open the URL and assign it to an object called 'soup'"
   ]
  },
  {
   "cell_type": "code",
   "execution_count": 3,
   "metadata": {
    "deletable": false,
    "nbgrader": {
     "grade": false,
     "grade_id": "cell-889693bf71daf7c8",
     "locked": false,
     "schema_version": 1,
     "solution": true
    }
   },
   "outputs": [],
   "source": [
    "wiki = \"https://en.wikipedia.org/wiki/List_of_U.S._states_and_territories_by_population\"\n",
    "page = requests.get(wiki).text\n",
    "soup = BeautifulSoup(page)"
   ]
  },
  {
   "cell_type": "code",
   "execution_count": 4,
   "metadata": {
    "deletable": false,
    "editable": false,
    "nbgrader": {
     "grade": true,
     "grade_id": "cell-52fad88c14b5f276",
     "locked": true,
     "points": 0.5,
     "schema_version": 1,
     "solution": false
    }
   },
   "outputs": [],
   "source": [
    "assert wiki\n",
    "assert page\n",
    "assert soup\n"
   ]
  },
  {
   "cell_type": "markdown",
   "metadata": {},
   "source": [
    "### 1b) Checking Scrape Contents\n",
    "\n",
    "Extract the title from the page and save it in a variable called `title_page`. \n",
    "Make sure you extract it as a string.\n",
    "To do so, you have to use the soup object created in the above cell. \n",
    "Hint: from your soup variable, you can access this with `.title.string`\n",
    "Make sure you print out and check the contents of `title_page`. \n",
    "Note that it should not have any tags (such as `<title>` included in it).\n"
   ]
  },
  {
   "cell_type": "code",
   "execution_count": 5,
   "metadata": {
    "deletable": false,
    "nbgrader": {
     "grade": false,
     "grade_id": "cell-4d0a0b26ed667fe0",
     "locked": false,
     "schema_version": 1,
     "solution": true
    }
   },
   "outputs": [],
   "source": [
    "title_page = soup.title.string"
   ]
  },
  {
   "cell_type": "code",
   "execution_count": 6,
   "metadata": {
    "deletable": false,
    "editable": false,
    "nbgrader": {
     "grade": true,
     "grade_id": "cell-25e2c00e1488f142",
     "locked": true,
     "points": 0.5,
     "schema_version": 1,
     "solution": false
    }
   },
   "outputs": [],
   "source": [
    "assert title_page\n",
    "assert isinstance(title_page, str)\n"
   ]
  },
  {
   "cell_type": "markdown",
   "metadata": {},
   "source": [
    "### 1c) Extracting Tables\n",
    "\n",
    "In order to extract the data we want, we'll start with extracting a data table of interest. \n",
    "Note that you can see this table by going to look at the link we scraped.\n",
    "Use the soup object and call a method called find, which will and extract the first table in scraped webpage. \n",
    "Note: you need to search for the name `table`, and set the `class_` argument as `wikitable sortable`.\n"
   ]
  },
  {
   "cell_type": "code",
   "execution_count": 7,
   "metadata": {
    "deletable": false,
    "nbgrader": {
     "grade": false,
     "grade_id": "cell-8da7172c1da665fe",
     "locked": false,
     "schema_version": 1,
     "solution": true
    }
   },
   "outputs": [],
   "source": [
    "right_table = soup.find('table', {'class': 'wikitable sortable'})"
   ]
  },
  {
   "cell_type": "code",
   "execution_count": 8,
   "metadata": {
    "deletable": false,
    "editable": false,
    "nbgrader": {
     "grade": true,
     "grade_id": "cell-6a079fac89c3332c",
     "locked": true,
     "points": 0.5,
     "schema_version": 1,
     "solution": false
    }
   },
   "outputs": [],
   "source": [
    "assert right_table\n",
    "assert isinstance(right_table, bs4.element.Tag)\n",
    "assert right_table.name == 'table'"
   ]
  },
  {
   "cell_type": "markdown",
   "metadata": {},
   "source": [
    "Extract the data from the table into lists.\n",
    "Note: This code provided for you. Do read through it and try to see how it works.\n"
   ]
  },
  {
   "cell_type": "code",
   "execution_count": 9,
   "metadata": {
    "deletable": false,
    "editable": false,
    "nbgrader": {
     "grade": false,
     "grade_id": "cell-6219dfad1bd6ba7b",
     "locked": true,
     "schema_version": 1,
     "solution": false
    }
   },
   "outputs": [],
   "source": [
    "lst_a, lst_b, lst_c = [], [], []\n",
    "\n",
    "for row in right_table.findAll('tr'):\n",
    "    \n",
    "    cells = row.findAll('td')\n",
    "    \n",
    "    # Skips rows that aren't 10 columns long (like the heading)\n",
    "    if len(cells) != 11:\n",
    "        continue\n",
    "\n",
    "    # This catches when the name cells stops having a link\n",
    "    #  and ends, skipping the last (summary rows)\n",
    "    try:\n",
    "        lst_a.append(cells[2].find('a').text.strip())\n",
    "        lst_b.append(cells[3].find(text=True).strip())\n",
    "        lst_c.append(cells[4].find(text=True).strip())\n",
    "    except:\n",
    "        break"
   ]
  },
  {
   "cell_type": "code",
   "execution_count": 10,
   "metadata": {
    "deletable": false,
    "nbgrader": {
     "grade": false,
     "grade_id": "cell-3b72a498799ef251",
     "locked": false,
     "schema_version": 1,
     "solution": true
    }
   },
   "outputs": [],
   "source": [
    "d = pd.DataFrame({'State': lst_a, 'Population Estimate': lst_b, 'Census Population': lst_c})\n",
    "my_df = pd.DataFrame(data=d)\n",
    "my_df = my_df.set_index('State')"
   ]
  },
  {
   "cell_type": "markdown",
   "metadata": {},
   "source": [
    "### 1d) Collecting into a dataframe\n",
    "\n",
    "Create a dataframe `my_df` and add the data from the lists above to it. \n",
    "- `lst_a` is the state or territory name. Set the column name as `State`, and make this the index\n",
    "- `lst_b` is the population estimate. Add it to the dataframe, and set the column name as `Population Estimate`\n",
    "- `lst_c` is the census population. Add it to the dataframe, and set the column name as `Census Population`\n"
   ]
  },
  {
   "cell_type": "code",
   "execution_count": 11,
   "metadata": {
    "deletable": false,
    "editable": false,
    "nbgrader": {
     "grade": true,
     "grade_id": "cell-406fc7a4b3d93852",
     "locked": true,
     "points": 0.5,
     "schema_version": 1,
     "solution": false
    }
   },
   "outputs": [],
   "source": [
    "assert isinstance (my_df, pd.DataFrame)\n",
    "assert my_df.index.name == 'State'\n",
    "assert list(my_df.columns) == ['Population Estimate', 'Census Population']\n"
   ]
  },
  {
   "cell_type": "markdown",
   "metadata": {},
   "source": [
    "### 1e) Using the data\n",
    "What is the Population Estimate of California? Save this answer to a variable called `calif_pop`\n",
    "Notes:\n",
    "- Extract this value programmatically from your dataframe (as in, don't set it explicitly, as `cf = 123`)\n",
    "- You can use `.loc` to extract a particular value from a dataframe.\n",
    "- The data in your dataframe will be strings - that's fine, leave them as strings (don't typecast).\n"
   ]
  },
  {
   "cell_type": "code",
   "execution_count": 12,
   "metadata": {
    "deletable": false,
    "nbgrader": {
     "grade": false,
     "grade_id": "cell-552f1cceb6530fef",
     "locked": false,
     "schema_version": 1,
     "solution": true
    }
   },
   "outputs": [],
   "source": [
    "calif_pop = my_df.loc[\"California\", \"Population Estimate\"]"
   ]
  },
  {
   "cell_type": "code",
   "execution_count": 13,
   "metadata": {
    "deletable": false,
    "editable": false,
    "nbgrader": {
     "grade": true,
     "grade_id": "cell-00910bf76609b48e",
     "locked": true,
     "points": 0.5,
     "schema_version": 1,
     "solution": false
    }
   },
   "outputs": [],
   "source": [
    "assert calif_pop\n"
   ]
  },
  {
   "cell_type": "markdown",
   "metadata": {
    "deletable": false,
    "editable": false,
    "nbgrader": {
     "grade": false,
     "grade_id": "p1-title",
     "locked": true,
     "schema_version": 1,
     "solution": false
    }
   },
   "source": [
    "## Part 2: Identifying Data"
   ]
  },
  {
   "cell_type": "markdown",
   "metadata": {
    "deletable": false,
    "editable": false,
    "nbgrader": {
     "grade": false,
     "grade_id": "p1-desc",
     "locked": true,
     "schema_version": 1,
     "solution": false
    }
   },
   "source": [
    "Data Files:\n",
    "- anon_user_dat.json\n",
    "- employee_info.json\n",
    "\n",
    "You will first be working with a file called `anon_user_dat.json`. This file that contains information about some (fake) Tinder users. When creating an account, each Tinder user was asked to provide their first name, last name, work email (to verify the disclosed workplace), age, gender, phone # and zip code. Before releasing this data, a data scientist cleaned the data to protect the privacy of Tinder's users by removing the obvious personal identifiers: phone #, zip code, and IP address. However, the data scientist chose to keep each users' email addresses because when they visually skimmed a couple of the email addresses none of them seemed to have any of the user's actual names in them. This is where the data scientist made a huge mistake!\n",
    "\n",
    "We will take advantage of having the work email addresses by finding the employee information of different companies and matching that employee information with the information we have, in order to identify the names of the secret Tinder users!"
   ]
  },
  {
   "cell_type": "markdown",
   "metadata": {},
   "source": [
    "### 2a) Load in the 'cleaned' data \n",
    "\n",
    "Load the json file into a pandas dataframe. Call it `df_personal`."
   ]
  },
  {
   "cell_type": "code",
   "execution_count": 14,
   "metadata": {
    "deletable": false,
    "nbgrader": {
     "grade": false,
     "grade_id": "1a",
     "locked": false,
     "schema_version": 1,
     "solution": true
    }
   },
   "outputs": [],
   "source": [
    "df_personal = pd.DataFrame(pd.read_json('anon_user_dat.json'))"
   ]
  },
  {
   "cell_type": "code",
   "execution_count": 15,
   "metadata": {
    "deletable": false,
    "editable": false,
    "nbgrader": {
     "grade": true,
     "grade_id": "1a-tests",
     "locked": true,
     "points": 0.5,
     "schema_version": 1,
     "solution": false
    }
   },
   "outputs": [],
   "source": [
    "assert isinstance(df_personal, pd.DataFrame)\n"
   ]
  },
  {
   "cell_type": "markdown",
   "metadata": {},
   "source": [
    "### 2b) Check the first 10 emails \n",
    "\n",
    "Save the first 10 emails to a Series, and call it `sample_emails`. \n",
    "You should then and print out this Series. \n",
    "The purpose of this is to get a sense of how these work emails are structured and how we could possibly extract where each anonymous user seems to work.\n"
   ]
  },
  {
   "cell_type": "code",
   "execution_count": 16,
   "metadata": {
    "deletable": false,
    "nbgrader": {
     "grade": false,
     "grade_id": "1b",
     "locked": false,
     "schema_version": 1,
     "solution": true
    }
   },
   "outputs": [
    {
     "name": "stdout",
     "output_type": "stream",
     "text": [
      "0    gshoreson0@seattletimes.com\n",
      "1             eweaben1@salon.com\n",
      "2        akillerby2@gravatar.com\n",
      "3              gsainz3@zdnet.com\n",
      "4       bdanilewicz4@4shared.com\n",
      "5      sdeerness5@wikispaces.com\n",
      "6         jstillwell6@ustream.tv\n",
      "7         mpriestland7@opera.com\n",
      "8       nerickssen8@hatena.ne.jp\n",
      "9             hparsell9@xing.com\n",
      "Name: email, dtype: object\n"
     ]
    }
   ],
   "source": [
    "sample_emails = pd.Series(df_personal.email.head(10))\n",
    "print(sample_emails)"
   ]
  },
  {
   "cell_type": "code",
   "execution_count": 17,
   "metadata": {
    "deletable": false,
    "editable": false,
    "nbgrader": {
     "grade": true,
     "grade_id": "1b-tests",
     "locked": true,
     "points": 0.5,
     "schema_version": 1,
     "solution": false
    }
   },
   "outputs": [],
   "source": [
    "assert isinstance(sample_emails, pd.Series)\n"
   ]
  },
  {
   "cell_type": "markdown",
   "metadata": {},
   "source": [
    "### 2c) Extract the Company Name From the Email \n",
    "\n",
    "Create a function with the following specifications:\n",
    "- Function Name: extract_company\n",
    "- Purpose: to extract the company of the email (i.e., everything after the @ sign but before the .)\n",
    "- Parameter(s): email (string)\n",
    "- Returns: The extracted part of the email (string)\n",
    "- Hint: This should take 1 line of code. Look into the find('') method. \n",
    "\n",
    "You can start with this outline:\n",
    "```python \n",
    "def extract_company(email):\n",
    "    return\n",
    "```\n",
    "\n",
    "Example Usage: \n",
    "- extract_company(\"larhe@uber.com\") should return \"uber\"\n",
    "- extract_company(“ds@cogs.edu”) should return “cogs”\n",
    "\n"
   ]
  },
  {
   "cell_type": "code",
   "execution_count": 18,
   "metadata": {
    "deletable": false,
    "nbgrader": {
     "grade": false,
     "grade_id": "1c",
     "locked": false,
     "schema_version": 1,
     "solution": true
    }
   },
   "outputs": [],
   "source": [
    "def extract_company(email):\n",
    "    return email[email.find('@')+1:email.find('.')]\n"
   ]
  },
  {
   "cell_type": "code",
   "execution_count": 19,
   "metadata": {
    "deletable": false,
    "editable": false,
    "nbgrader": {
     "grade": true,
     "grade_id": "1c-tests",
     "locked": true,
     "points": 1,
     "schema_version": 1,
     "solution": false
    }
   },
   "outputs": [],
   "source": [
    "assert extract_company(\"gshoreson0@seattletimes.com\") == \"seattletimes\"\n"
   ]
  },
  {
   "cell_type": "markdown",
   "metadata": {
    "deletable": false,
    "editable": false,
    "nbgrader": {
     "grade": false,
     "grade_id": "info",
     "locked": true,
     "schema_version": 1,
     "solution": false
    }
   },
   "source": [
    "With a little bit of basic sleuthing (aka googling) and web-scraping (aka selectively reading in html code) it turns out that you've been able to collect information about all the present employees/interns of the companies you are interested in. Specifically, on each company website, you have found the name, gender, and age of its employees. You have saved that info in employee_info.json and plan to see if, using this new information, you can match the Tinder accounts to actual names."
   ]
  },
  {
   "cell_type": "markdown",
   "metadata": {},
   "source": [
    "### 2d) Load in employee data \n",
    "\n",
    "Load the json file into a pandas dataframe. Call it `df_employee`."
   ]
  },
  {
   "cell_type": "code",
   "execution_count": 20,
   "metadata": {
    "deletable": false,
    "nbgrader": {
     "grade": false,
     "grade_id": "1d",
     "locked": false,
     "schema_version": 1,
     "solution": true
    }
   },
   "outputs": [],
   "source": [
    "df_employee = pd.DataFrame(pd.read_json('employee_info.json'))"
   ]
  },
  {
   "cell_type": "code",
   "execution_count": 21,
   "metadata": {
    "deletable": false,
    "editable": false,
    "nbgrader": {
     "grade": true,
     "grade_id": "1d-tests",
     "locked": true,
     "points": 0.5,
     "schema_version": 1,
     "solution": false
    }
   },
   "outputs": [],
   "source": [
    "assert isinstance(df_employee, pd.DataFrame)\n"
   ]
  },
  {
   "cell_type": "markdown",
   "metadata": {},
   "source": [
    "### 2e) Match the employee name with company, age, gender \n",
    "\n",
    "Create a function with the following specifications:\n",
    "- Function name: employee_matcher\n",
    "- Purpose: to match the employee name with the provided company, age, and gender\n",
    "- Parameter(s): company (string), age (int), gender (string)\n",
    "- Returns: The employee first_name and last_name like this: return first_name, last_name \n",
    "- Note: If there are multiple employees that fit the same description, first_name and last_name should return a list of all possible first names and last name i.e., ['Desmund', 'Kelby'], ['Shepley', 'Tichner']\n",
    "\n",
    "Hint:\n",
    "There are many different ways to code this. An unelegant solution is to loop through `df_employee` \n",
    "   and for each data item see if the company, age, and gender match\n",
    "   i.e., \n",
    "   ```python\n",
    "   for i in range(0, len(df_employee)):\n",
    "             if (company == df_employee.ix[i,'company']):\n",
    "   ```\n",
    "   \n",
    "However! The solution above is very inefficient and long, so you should try to look into this:\n",
    "Google the df.loc method: It extracts pieces of the dataframe\n",
    "   if it fulfills a certain condition.\n",
    "   i.e., \n",
    "   \n",
    "```python\n",
    "df_employee.loc[df_employee['company'] == company]\n",
    "```\n",
    "\n",
    "If you need to convert your pandas data series into a list, you can do ```list(result)``` where result is a pandas \"series\"\n",
    "\n",
    "You can start with this outline:\n",
    "```python\n",
    "def employee_matcher(company, age, gender):\n",
    "    return first_name, last_name\n",
    "```\n"
   ]
  },
  {
   "cell_type": "code",
   "execution_count": 22,
   "metadata": {
    "deletable": false,
    "nbgrader": {
     "grade": false,
     "grade_id": "1e",
     "locked": false,
     "schema_version": 1,
     "solution": true
    }
   },
   "outputs": [],
   "source": [
    "def employee_matcher(company, age, gender): \n",
    "    df1 = df_employee.loc[df_employee['company'] == company]\n",
    "    if not df1.empty:\n",
    "        df2 = df1.loc[df1['age'] == age]\n",
    "        if not df2.empty:\n",
    "            df3 = df2.loc[df2['gender'] == gender]\n",
    "            if not df3.empty:\n",
    "                first_names = pd.Series(df3['first_name'])\n",
    "                last_names = pd.Series(df3['last_name'])\n",
    "                return list(first_names), list(last_names)\n",
    "            else: return [],[] \n",
    "        else: return [],[] \n",
    "    else: return [],[] "
   ]
  },
  {
   "cell_type": "code",
   "execution_count": 23,
   "metadata": {
    "deletable": false,
    "editable": false,
    "nbgrader": {
     "grade": true,
     "grade_id": "1e-tests",
     "locked": true,
     "points": 1,
     "schema_version": 1,
     "solution": false
    }
   },
   "outputs": [],
   "source": [
    "assert employee_matcher(\"google\", 41, \"Male\") == (['Maxwell'], ['Jorio'])\n",
    "assert employee_matcher(\"salon\", 47, \"Female\") == (['Elenore'], ['Gravett'])\n"
   ]
  },
  {
   "cell_type": "markdown",
   "metadata": {},
   "source": [
    "### 2f) Extract all the private data \n",
    "\n",
    "- Create 2 empty lists called `first_names` and `last_names`\n",
    "- Loop through all the people we are trying to identify in df_personal\n",
    "- Call the `extract_company function` (i.e., `extract_company(df_personal.ix[i, 'email'])` )\n",
    "- Call the `employee_matcher` function \n",
    "- Append the results of `employee_matcher` to the appropriate lists (`first_names` and `last_names`)\n",
    "\n"
   ]
  },
  {
   "cell_type": "code",
   "execution_count": null,
   "metadata": {
    "deletable": false,
    "nbgrader": {
     "grade": false,
     "grade_id": "1f",
     "locked": false,
     "schema_version": 1,
     "solution": true
    }
   },
   "outputs": [],
   "source": [
    "first_names = []\n",
    "last_names = []\n",
    "for i in range(0, len(df_personal)):\n",
    "    company = extract_company(df_personal.loc[i, 'email'])\n",
    "    age = df_personal.loc[i, 'age']\n",
    "    gender = df_personal.loc[i, 'gender']\n",
    "    fn, ln = employee_matcher(company, age, gender)\n",
    "    first_names.append(fn)\n",
    "    last_names.append(ln)"
   ]
  },
  {
   "cell_type": "code",
   "execution_count": null,
   "metadata": {
    "deletable": false,
    "editable": false,
    "nbgrader": {
     "grade": true,
     "grade_id": "1f-tests",
     "locked": true,
     "points": 1,
     "schema_version": 1,
     "solution": false
    }
   },
   "outputs": [],
   "source": [
    "assert first_names[45:50]== [['Justino'], ['Tadio'], ['Kennith'], ['Cedric'], ['Amargo']]\n",
    "assert last_names[45:50] == [['Corro'], ['Blackford'], ['Milton'], ['Yggo'], ['Grigor']]\n"
   ]
  },
  {
   "cell_type": "markdown",
   "metadata": {},
   "source": [
    "### 2g) Add the names to the original 'secure' dataset! \n",
    "\n",
    "We have done this last step for you below, all you need to do is run this cell.\n",
    "For your own personal enjoyment, you should also print out\n",
    "  the new `df_personal` with the identified people. "
   ]
  },
  {
   "cell_type": "code",
   "execution_count": null,
   "metadata": {
    "deletable": false,
    "editable": false,
    "nbgrader": {
     "grade": false,
     "grade_id": "1g",
     "locked": true,
     "schema_version": 1,
     "solution": false
    }
   },
   "outputs": [],
   "source": [
    "df_personal['first_name'] = first_names\n",
    "df_personal['last_name'] = last_names"
   ]
  },
  {
   "cell_type": "markdown",
   "metadata": {
    "deletable": false,
    "editable": false,
    "nbgrader": {
     "grade": false,
     "grade_id": "wrap-p1",
     "locked": true,
     "schema_version": 1,
     "solution": false
    }
   },
   "source": [
    "We have now just discovered the 'anonymous' identities of all the registered Tinder users...awkward."
   ]
  },
  {
   "cell_type": "markdown",
   "metadata": {
    "deletable": false,
    "editable": false,
    "nbgrader": {
     "grade": false,
     "grade_id": "p2-title",
     "locked": true,
     "schema_version": 1,
     "solution": false
    }
   },
   "source": [
    "## Part 3: Anonymize Data"
   ]
  },
  {
   "cell_type": "markdown",
   "metadata": {
    "deletable": false,
    "editable": false,
    "nbgrader": {
     "grade": false,
     "grade_id": "p2-desc",
     "locked": true,
     "schema_version": 1,
     "solution": false
    }
   },
   "source": [
    "You are hopefully now convinced that with some seemingly harmless data a hacker can pretty easily discover the identities of certain users. Thus, we will now clean the original Tinder data ourselves according to the Safe Harbor Method in order to make sure that it has been *properly* cleaned..."
   ]
  },
  {
   "cell_type": "markdown",
   "metadata": {},
   "source": [
    "### 3a) Load in personal data \n",
    "\n",
    "Load the user_dat.json file into a pandas dataframe. Call it `df_users`.\n",
    "Note: You might find that using the same method as A2 (or above) leads to an error.\n",
    "The file has a slightly different organization. \n",
    "  Try googling the error and finding the fix for it.\n",
    "Hint: you can still use `pd.read_json`, you just need to add another argument."
   ]
  },
  {
   "cell_type": "code",
   "execution_count": null,
   "metadata": {
    "deletable": false,
    "nbgrader": {
     "grade": false,
     "grade_id": "2a",
     "locked": false,
     "schema_version": 1,
     "solution": true
    }
   },
   "outputs": [
    {
     "data": {
      "text/html": [
       "<div>\n",
       "<style scoped>\n",
       "    .dataframe tbody tr th:only-of-type {\n",
       "        vertical-align: middle;\n",
       "    }\n",
       "\n",
       "    .dataframe tbody tr th {\n",
       "        vertical-align: top;\n",
       "    }\n",
       "\n",
       "    .dataframe thead th {\n",
       "        text-align: right;\n",
       "    }\n",
       "</style>\n",
       "<table border=\"1\" class=\"dataframe\">\n",
       "  <thead>\n",
       "    <tr style=\"text-align: right;\">\n",
       "      <th></th>\n",
       "      <th>age</th>\n",
       "      <th>email</th>\n",
       "      <th>first_name</th>\n",
       "      <th>gender</th>\n",
       "      <th>ip_address</th>\n",
       "      <th>last_name</th>\n",
       "      <th>phone</th>\n",
       "      <th>zip</th>\n",
       "    </tr>\n",
       "  </thead>\n",
       "  <tbody>\n",
       "    <tr>\n",
       "      <th>0</th>\n",
       "      <td>60</td>\n",
       "      <td>gshoreson0@seattletimes.com</td>\n",
       "      <td>Gordon</td>\n",
       "      <td>Male</td>\n",
       "      <td>230.97.219.70</td>\n",
       "      <td>DelaField</td>\n",
       "      <td>(245)663-9899</td>\n",
       "      <td>6705</td>\n",
       "    </tr>\n",
       "    <tr>\n",
       "      <th>1</th>\n",
       "      <td>47</td>\n",
       "      <td>eweaben1@salon.com</td>\n",
       "      <td>Elenore</td>\n",
       "      <td>Female</td>\n",
       "      <td>202.253.80.173</td>\n",
       "      <td>Gravett</td>\n",
       "      <td>(445)749-6402</td>\n",
       "      <td>40330</td>\n",
       "    </tr>\n",
       "    <tr>\n",
       "      <th>2</th>\n",
       "      <td>27</td>\n",
       "      <td>akillerby2@gravatar.com</td>\n",
       "      <td>Abbe</td>\n",
       "      <td>Male</td>\n",
       "      <td>15.120.128.79</td>\n",
       "      <td>Stockdale</td>\n",
       "      <td>(312)997-8947</td>\n",
       "      <td>44139</td>\n",
       "    </tr>\n",
       "    <tr>\n",
       "      <th>3</th>\n",
       "      <td>46</td>\n",
       "      <td>gsainz3@zdnet.com</td>\n",
       "      <td>Guido</td>\n",
       "      <td>Male</td>\n",
       "      <td>71.234.147.178</td>\n",
       "      <td>Comfort</td>\n",
       "      <td>(530)815-7417</td>\n",
       "      <td>44201</td>\n",
       "    </tr>\n",
       "    <tr>\n",
       "      <th>4</th>\n",
       "      <td>72</td>\n",
       "      <td>bdanilewicz4@4shared.com</td>\n",
       "      <td>Brody</td>\n",
       "      <td>Male</td>\n",
       "      <td>68.192.188.136</td>\n",
       "      <td>Pinckard</td>\n",
       "      <td>(214)138-6981</td>\n",
       "      <td>72956</td>\n",
       "    </tr>\n",
       "    <tr>\n",
       "      <th>5</th>\n",
       "      <td>46</td>\n",
       "      <td>sdeerness5@wikispaces.com</td>\n",
       "      <td>Shalne</td>\n",
       "      <td>Female</td>\n",
       "      <td>204.227.6.124</td>\n",
       "      <td>Smail</td>\n",
       "      <td>(918)972-0284</td>\n",
       "      <td>53086</td>\n",
       "    </tr>\n",
       "    <tr>\n",
       "      <th>6</th>\n",
       "      <td>53</td>\n",
       "      <td>jstillwell6@ustream.tv</td>\n",
       "      <td>Joell</td>\n",
       "      <td>Female</td>\n",
       "      <td>37.146.221.194</td>\n",
       "      <td>Bowlesworth</td>\n",
       "      <td>(113)112-6771</td>\n",
       "      <td>52073</td>\n",
       "    </tr>\n",
       "    <tr>\n",
       "      <th>7</th>\n",
       "      <td>29</td>\n",
       "      <td>mpriestland7@opera.com</td>\n",
       "      <td>Manfred</td>\n",
       "      <td>Male</td>\n",
       "      <td>67.64.181.77</td>\n",
       "      <td>Bricket</td>\n",
       "      <td>(665)414-5000</td>\n",
       "      <td>92617</td>\n",
       "    </tr>\n",
       "    <tr>\n",
       "      <th>8</th>\n",
       "      <td>39</td>\n",
       "      <td>nerickssen8@hatena.ne.jp</td>\n",
       "      <td>Neille</td>\n",
       "      <td>Female</td>\n",
       "      <td>180.183.192.79</td>\n",
       "      <td>McCahey</td>\n",
       "      <td>(218)925-2761</td>\n",
       "      <td>55027</td>\n",
       "    </tr>\n",
       "    <tr>\n",
       "      <th>9</th>\n",
       "      <td>45</td>\n",
       "      <td>hparsell9@xing.com</td>\n",
       "      <td>Henri</td>\n",
       "      <td>Male</td>\n",
       "      <td>32.181.36.170</td>\n",
       "      <td>Scotchford</td>\n",
       "      <td>(433)404-7429</td>\n",
       "      <td>74647</td>\n",
       "    </tr>\n",
       "    <tr>\n",
       "      <th>10</th>\n",
       "      <td>26</td>\n",
       "      <td>acopasa@fda.gov</td>\n",
       "      <td>Alyosha</td>\n",
       "      <td>Male</td>\n",
       "      <td>36.177.179.182</td>\n",
       "      <td>Scollan</td>\n",
       "      <td>(375)464-4912</td>\n",
       "      <td>50255</td>\n",
       "    </tr>\n",
       "    <tr>\n",
       "      <th>11</th>\n",
       "      <td>83</td>\n",
       "      <td>bdanielovitchb@jigsy.com</td>\n",
       "      <td>Berkie</td>\n",
       "      <td>Male</td>\n",
       "      <td>86.81.145.219</td>\n",
       "      <td>Ciementini</td>\n",
       "      <td>(678)997-5536</td>\n",
       "      <td>97842</td>\n",
       "    </tr>\n",
       "    <tr>\n",
       "      <th>12</th>\n",
       "      <td>73</td>\n",
       "      <td>cwestbergc@psu.edu</td>\n",
       "      <td>Caresse</td>\n",
       "      <td>Female</td>\n",
       "      <td>28.243.72.29</td>\n",
       "      <td>Cubbino</td>\n",
       "      <td>(920)742-0040</td>\n",
       "      <td>97004</td>\n",
       "    </tr>\n",
       "    <tr>\n",
       "      <th>13</th>\n",
       "      <td>30</td>\n",
       "      <td>jlarived@goodreads.com</td>\n",
       "      <td>Jo</td>\n",
       "      <td>Female</td>\n",
       "      <td>165.251.5.90</td>\n",
       "      <td>Grangier</td>\n",
       "      <td>(928)244-7440</td>\n",
       "      <td>37821</td>\n",
       "    </tr>\n",
       "    <tr>\n",
       "      <th>14</th>\n",
       "      <td>69</td>\n",
       "      <td>mchallisse@ning.com</td>\n",
       "      <td>Marcelia</td>\n",
       "      <td>Female</td>\n",
       "      <td>148.248.57.176</td>\n",
       "      <td>Dimitru</td>\n",
       "      <td>(727)125-0315</td>\n",
       "      <td>93255</td>\n",
       "    </tr>\n",
       "    <tr>\n",
       "      <th>15</th>\n",
       "      <td>29</td>\n",
       "      <td>cbrognotf@ebay.co.uk</td>\n",
       "      <td>Clim</td>\n",
       "      <td>Male</td>\n",
       "      <td>39.47.253.182</td>\n",
       "      <td>Roddam</td>\n",
       "      <td>(185)375-0188</td>\n",
       "      <td>98068</td>\n",
       "    </tr>\n",
       "    <tr>\n",
       "      <th>16</th>\n",
       "      <td>45</td>\n",
       "      <td>aphearg@tumblr.com</td>\n",
       "      <td>Arnie</td>\n",
       "      <td>Male</td>\n",
       "      <td>88.180.58.248</td>\n",
       "      <td>Raoux</td>\n",
       "      <td>(805)542-0438</td>\n",
       "      <td>8074</td>\n",
       "    </tr>\n",
       "    <tr>\n",
       "      <th>17</th>\n",
       "      <td>3</td>\n",
       "      <td>askogginsh@jugem.jp</td>\n",
       "      <td>Astrix</td>\n",
       "      <td>Female</td>\n",
       "      <td>208.161.20.23</td>\n",
       "      <td>Grooby</td>\n",
       "      <td>(841)267-7102</td>\n",
       "      <td>20005</td>\n",
       "    </tr>\n",
       "    <tr>\n",
       "      <th>18</th>\n",
       "      <td>34</td>\n",
       "      <td>eondraseki@deviantart.com</td>\n",
       "      <td>Enriqueta</td>\n",
       "      <td>Female</td>\n",
       "      <td>1.26.229.204</td>\n",
       "      <td>Raggles</td>\n",
       "      <td>(639)538-7115</td>\n",
       "      <td>42347</td>\n",
       "    </tr>\n",
       "    <tr>\n",
       "      <th>19</th>\n",
       "      <td>37</td>\n",
       "      <td>kcaswallj@is.gd</td>\n",
       "      <td>Kristen</td>\n",
       "      <td>Female</td>\n",
       "      <td>30.161.15.205</td>\n",
       "      <td>Vennart</td>\n",
       "      <td>(104)768-2999</td>\n",
       "      <td>52768</td>\n",
       "    </tr>\n",
       "    <tr>\n",
       "      <th>20</th>\n",
       "      <td>53</td>\n",
       "      <td>cpetrillok@cbsnews.com</td>\n",
       "      <td>Cletis</td>\n",
       "      <td>Male</td>\n",
       "      <td>205.38.38.180</td>\n",
       "      <td>Gulliman</td>\n",
       "      <td>(274)183-1917</td>\n",
       "      <td>73150</td>\n",
       "    </tr>\n",
       "    <tr>\n",
       "      <th>21</th>\n",
       "      <td>58</td>\n",
       "      <td>bstratfordl@ted.com</td>\n",
       "      <td>Bernadine</td>\n",
       "      <td>Female</td>\n",
       "      <td>159.77.18.200</td>\n",
       "      <td>La Padula</td>\n",
       "      <td>(981)342-5337</td>\n",
       "      <td>57313</td>\n",
       "    </tr>\n",
       "    <tr>\n",
       "      <th>22</th>\n",
       "      <td>83</td>\n",
       "      <td>mandreichikm@shareasale.com</td>\n",
       "      <td>Mack</td>\n",
       "      <td>Male</td>\n",
       "      <td>37.233.225.215</td>\n",
       "      <td>Hanwright</td>\n",
       "      <td>(605)741-2122</td>\n",
       "      <td>88052</td>\n",
       "    </tr>\n",
       "    <tr>\n",
       "      <th>23</th>\n",
       "      <td>47</td>\n",
       "      <td>jsegarn@sfgate.com</td>\n",
       "      <td>Jonas</td>\n",
       "      <td>Male</td>\n",
       "      <td>45.144.205.179</td>\n",
       "      <td>Checci</td>\n",
       "      <td>(460)335-2421</td>\n",
       "      <td>60073</td>\n",
       "    </tr>\n",
       "    <tr>\n",
       "      <th>24</th>\n",
       "      <td>51</td>\n",
       "      <td>aurridgeo@purevolume.com</td>\n",
       "      <td>Antoine</td>\n",
       "      <td>Male</td>\n",
       "      <td>101.79.179.65</td>\n",
       "      <td>Lukovic</td>\n",
       "      <td>(996)835-2682</td>\n",
       "      <td>44010</td>\n",
       "    </tr>\n",
       "    <tr>\n",
       "      <th>25</th>\n",
       "      <td>65</td>\n",
       "      <td>njandap@ebay.com</td>\n",
       "      <td>Nichols</td>\n",
       "      <td>Male</td>\n",
       "      <td>155.44.138.46</td>\n",
       "      <td>Flintoffe</td>\n",
       "      <td>(919)465-9344</td>\n",
       "      <td>55438</td>\n",
       "    </tr>\n",
       "    <tr>\n",
       "      <th>26</th>\n",
       "      <td>26</td>\n",
       "      <td>lwathallq@exblog.jp</td>\n",
       "      <td>Lorie</td>\n",
       "      <td>Female</td>\n",
       "      <td>79.106.191.247</td>\n",
       "      <td>Jeskin</td>\n",
       "      <td>(517)796-3878</td>\n",
       "      <td>70726</td>\n",
       "    </tr>\n",
       "    <tr>\n",
       "      <th>27</th>\n",
       "      <td>57</td>\n",
       "      <td>aoveringtonr@canalblog.com</td>\n",
       "      <td>Alissa</td>\n",
       "      <td>Female</td>\n",
       "      <td>148.136.49.1</td>\n",
       "      <td>Ganforthe</td>\n",
       "      <td>(175)703-9055</td>\n",
       "      <td>72576</td>\n",
       "    </tr>\n",
       "    <tr>\n",
       "      <th>28</th>\n",
       "      <td>39</td>\n",
       "      <td>dbrellins@ft.com</td>\n",
       "      <td>Dona</td>\n",
       "      <td>Female</td>\n",
       "      <td>82.233.62.39</td>\n",
       "      <td>Dumberell</td>\n",
       "      <td>(666)800-4626</td>\n",
       "      <td>96161</td>\n",
       "    </tr>\n",
       "    <tr>\n",
       "      <th>29</th>\n",
       "      <td>26</td>\n",
       "      <td>ebukact@toplist.cz</td>\n",
       "      <td>Essa</td>\n",
       "      <td>Female</td>\n",
       "      <td>191.180.218.203</td>\n",
       "      <td>Kaveney</td>\n",
       "      <td>(802)233-2511</td>\n",
       "      <td>34639</td>\n",
       "    </tr>\n",
       "    <tr>\n",
       "      <th>...</th>\n",
       "      <td>...</td>\n",
       "      <td>...</td>\n",
       "      <td>...</td>\n",
       "      <td>...</td>\n",
       "      <td>...</td>\n",
       "      <td>...</td>\n",
       "      <td>...</td>\n",
       "      <td>...</td>\n",
       "    </tr>\n",
       "    <tr>\n",
       "      <th>970</th>\n",
       "      <td>47</td>\n",
       "      <td>dsessionsqy@sakura.ne.jp</td>\n",
       "      <td>Dehlia</td>\n",
       "      <td>Female</td>\n",
       "      <td>4.190.6.161</td>\n",
       "      <td>Ades</td>\n",
       "      <td>(877)340-3983</td>\n",
       "      <td>81631</td>\n",
       "    </tr>\n",
       "    <tr>\n",
       "      <th>971</th>\n",
       "      <td>25</td>\n",
       "      <td>vkondratenkoqz@cornell.edu</td>\n",
       "      <td>Vick</td>\n",
       "      <td>Male</td>\n",
       "      <td>142.247.110.109</td>\n",
       "      <td>Ketley</td>\n",
       "      <td>(691)781-9582</td>\n",
       "      <td>23146</td>\n",
       "    </tr>\n",
       "    <tr>\n",
       "      <th>972</th>\n",
       "      <td>43</td>\n",
       "      <td>tbrethertonr0@lycos.com</td>\n",
       "      <td>Tilda</td>\n",
       "      <td>Female</td>\n",
       "      <td>110.232.61.135</td>\n",
       "      <td>Cossins</td>\n",
       "      <td>(323)288-9679</td>\n",
       "      <td>79530</td>\n",
       "    </tr>\n",
       "    <tr>\n",
       "      <th>973</th>\n",
       "      <td>65</td>\n",
       "      <td>srenfrewr1@shinystat.com</td>\n",
       "      <td>Stacey</td>\n",
       "      <td>Female</td>\n",
       "      <td>100.110.251.127</td>\n",
       "      <td>Quinion</td>\n",
       "      <td>(452)309-2781</td>\n",
       "      <td>74726</td>\n",
       "    </tr>\n",
       "    <tr>\n",
       "      <th>974</th>\n",
       "      <td>47</td>\n",
       "      <td>jjoiceyr2@theatlantic.com</td>\n",
       "      <td>Justin</td>\n",
       "      <td>Male</td>\n",
       "      <td>111.102.229.23</td>\n",
       "      <td>Bockings</td>\n",
       "      <td>(498)521-4884</td>\n",
       "      <td>22579</td>\n",
       "    </tr>\n",
       "    <tr>\n",
       "      <th>975</th>\n",
       "      <td>20</td>\n",
       "      <td>bborleacer3@naver.com</td>\n",
       "      <td>Beck</td>\n",
       "      <td>Male</td>\n",
       "      <td>235.145.58.208</td>\n",
       "      <td>Jerrand</td>\n",
       "      <td>(871)168-1695</td>\n",
       "      <td>50315</td>\n",
       "    </tr>\n",
       "    <tr>\n",
       "      <th>976</th>\n",
       "      <td>33</td>\n",
       "      <td>lmackeer4@reference.com</td>\n",
       "      <td>Lilla</td>\n",
       "      <td>Female</td>\n",
       "      <td>134.25.245.204</td>\n",
       "      <td>Pyffe</td>\n",
       "      <td>(646)378-6618</td>\n",
       "      <td>18037</td>\n",
       "    </tr>\n",
       "    <tr>\n",
       "      <th>977</th>\n",
       "      <td>37</td>\n",
       "      <td>mpaolicchir5@utexas.edu</td>\n",
       "      <td>Mellie</td>\n",
       "      <td>Female</td>\n",
       "      <td>134.131.44.209</td>\n",
       "      <td>Airdrie</td>\n",
       "      <td>(691)913-9932</td>\n",
       "      <td>74054</td>\n",
       "    </tr>\n",
       "    <tr>\n",
       "      <th>978</th>\n",
       "      <td>52</td>\n",
       "      <td>lgaliar6@lycos.com</td>\n",
       "      <td>Laverne</td>\n",
       "      <td>Female</td>\n",
       "      <td>119.36.146.55</td>\n",
       "      <td>Flint</td>\n",
       "      <td>(792)766-3084</td>\n",
       "      <td>47270</td>\n",
       "    </tr>\n",
       "    <tr>\n",
       "      <th>979</th>\n",
       "      <td>25</td>\n",
       "      <td>ldemcakr7@networksolutions.com</td>\n",
       "      <td>Lee</td>\n",
       "      <td>Female</td>\n",
       "      <td>62.235.73.154</td>\n",
       "      <td>Vasic</td>\n",
       "      <td>(626)210-9784</td>\n",
       "      <td>66023</td>\n",
       "    </tr>\n",
       "    <tr>\n",
       "      <th>980</th>\n",
       "      <td>35</td>\n",
       "      <td>ide giorgior8@360.cn</td>\n",
       "      <td>Ilario</td>\n",
       "      <td>Male</td>\n",
       "      <td>221.122.195.221</td>\n",
       "      <td>Mannagh</td>\n",
       "      <td>(501)588-7995</td>\n",
       "      <td>95113</td>\n",
       "    </tr>\n",
       "    <tr>\n",
       "      <th>981</th>\n",
       "      <td>41</td>\n",
       "      <td>mmctrustyr9@jugem.jp</td>\n",
       "      <td>Merell</td>\n",
       "      <td>Male</td>\n",
       "      <td>27.180.39.146</td>\n",
       "      <td>Kop</td>\n",
       "      <td>(532)164-3700</td>\n",
       "      <td>16508</td>\n",
       "    </tr>\n",
       "    <tr>\n",
       "      <th>982</th>\n",
       "      <td>63</td>\n",
       "      <td>ekohnra@amazonaws.com</td>\n",
       "      <td>Elia</td>\n",
       "      <td>Male</td>\n",
       "      <td>219.249.104.182</td>\n",
       "      <td>Stedmond</td>\n",
       "      <td>(160)896-8551</td>\n",
       "      <td>47515</td>\n",
       "    </tr>\n",
       "    <tr>\n",
       "      <th>983</th>\n",
       "      <td>35</td>\n",
       "      <td>mmillmorerb@hatena.ne.jp</td>\n",
       "      <td>Minor</td>\n",
       "      <td>Male</td>\n",
       "      <td>28.203.151.80</td>\n",
       "      <td>Kynaston</td>\n",
       "      <td>(312)645-4661</td>\n",
       "      <td>80654</td>\n",
       "    </tr>\n",
       "    <tr>\n",
       "      <th>984</th>\n",
       "      <td>20</td>\n",
       "      <td>lchaudrellerc@soup.io</td>\n",
       "      <td>Lon</td>\n",
       "      <td>Male</td>\n",
       "      <td>41.164.159.120</td>\n",
       "      <td>Dyster</td>\n",
       "      <td>(142)357-9842</td>\n",
       "      <td>54234</td>\n",
       "    </tr>\n",
       "    <tr>\n",
       "      <th>985</th>\n",
       "      <td>43</td>\n",
       "      <td>iavramovitzrd@ft.com</td>\n",
       "      <td>Ivy</td>\n",
       "      <td>Female</td>\n",
       "      <td>156.241.220.163</td>\n",
       "      <td>Cardo</td>\n",
       "      <td>(690)781-2853</td>\n",
       "      <td>1022</td>\n",
       "    </tr>\n",
       "    <tr>\n",
       "      <th>986</th>\n",
       "      <td>32</td>\n",
       "      <td>rreaneyre@canalblog.com</td>\n",
       "      <td>Rory</td>\n",
       "      <td>Female</td>\n",
       "      <td>88.61.92.34</td>\n",
       "      <td>Jersch</td>\n",
       "      <td>(461)911-4511</td>\n",
       "      <td>30176</td>\n",
       "    </tr>\n",
       "    <tr>\n",
       "      <th>987</th>\n",
       "      <td>30</td>\n",
       "      <td>sscawnrf@businessinsider.com</td>\n",
       "      <td>Sampson</td>\n",
       "      <td>Male</td>\n",
       "      <td>167.100.18.51</td>\n",
       "      <td>Wrangle</td>\n",
       "      <td>(275)423-6242</td>\n",
       "      <td>19119</td>\n",
       "    </tr>\n",
       "    <tr>\n",
       "      <th>988</th>\n",
       "      <td>48</td>\n",
       "      <td>lharbronrg@slashdot.org</td>\n",
       "      <td>Levey</td>\n",
       "      <td>Male</td>\n",
       "      <td>247.242.143.144</td>\n",
       "      <td>Towle</td>\n",
       "      <td>(828)103-0054</td>\n",
       "      <td>95492</td>\n",
       "    </tr>\n",
       "    <tr>\n",
       "      <th>989</th>\n",
       "      <td>37</td>\n",
       "      <td>pgurnayrh@uiuc.edu</td>\n",
       "      <td>Padgett</td>\n",
       "      <td>Male</td>\n",
       "      <td>232.159.28.11</td>\n",
       "      <td>Angus</td>\n",
       "      <td>(214)353-4128</td>\n",
       "      <td>88411</td>\n",
       "    </tr>\n",
       "    <tr>\n",
       "      <th>990</th>\n",
       "      <td>31</td>\n",
       "      <td>ckyngeri@hp.com</td>\n",
       "      <td>Chryste</td>\n",
       "      <td>Female</td>\n",
       "      <td>158.126.242.37</td>\n",
       "      <td>Kennington</td>\n",
       "      <td>(443)231-5097</td>\n",
       "      <td>1568</td>\n",
       "    </tr>\n",
       "    <tr>\n",
       "      <th>991</th>\n",
       "      <td>55</td>\n",
       "      <td>cboothroydrj@yellowbook.com</td>\n",
       "      <td>Charlena</td>\n",
       "      <td>None</td>\n",
       "      <td>164.13.253.57</td>\n",
       "      <td>Johncey</td>\n",
       "      <td>(746)900-3948</td>\n",
       "      <td>98548</td>\n",
       "    </tr>\n",
       "    <tr>\n",
       "      <th>992</th>\n",
       "      <td>14</td>\n",
       "      <td>kbrunkerrk@hibu.com</td>\n",
       "      <td>Keen</td>\n",
       "      <td>Male</td>\n",
       "      <td>228.227.8.245</td>\n",
       "      <td>MacDermot</td>\n",
       "      <td>(602)869-5523</td>\n",
       "      <td>50431</td>\n",
       "    </tr>\n",
       "    <tr>\n",
       "      <th>993</th>\n",
       "      <td>65</td>\n",
       "      <td>sleallerl@wikia.com</td>\n",
       "      <td>Selle</td>\n",
       "      <td>Female</td>\n",
       "      <td>42.147.60.17</td>\n",
       "      <td>Burleton</td>\n",
       "      <td>(320)646-8913</td>\n",
       "      <td>58005</td>\n",
       "    </tr>\n",
       "    <tr>\n",
       "      <th>994</th>\n",
       "      <td>38</td>\n",
       "      <td>kbeefonrm@vkontakte.ru</td>\n",
       "      <td>Karylin</td>\n",
       "      <td>Female</td>\n",
       "      <td>22.178.83.93</td>\n",
       "      <td>Crosbie</td>\n",
       "      <td>(519)281-1309</td>\n",
       "      <td>1826</td>\n",
       "    </tr>\n",
       "    <tr>\n",
       "      <th>995</th>\n",
       "      <td>3</td>\n",
       "      <td>pstroulgerrn@time.com</td>\n",
       "      <td>Penelopa</td>\n",
       "      <td>Female</td>\n",
       "      <td>116.139.135.110</td>\n",
       "      <td>Roman</td>\n",
       "      <td>(267)574-3068</td>\n",
       "      <td>82944</td>\n",
       "    </tr>\n",
       "    <tr>\n",
       "      <th>996</th>\n",
       "      <td>49</td>\n",
       "      <td>kbasnettro@seattletimes.com</td>\n",
       "      <td>Kandy</td>\n",
       "      <td>Female</td>\n",
       "      <td>204.88.246.32</td>\n",
       "      <td>Cossam</td>\n",
       "      <td>(790)556-4502</td>\n",
       "      <td>10455</td>\n",
       "    </tr>\n",
       "    <tr>\n",
       "      <th>997</th>\n",
       "      <td>75</td>\n",
       "      <td>pmortlockrp@liveinternet.ru</td>\n",
       "      <td>Paco</td>\n",
       "      <td>Male</td>\n",
       "      <td>223.217.138.28</td>\n",
       "      <td>Weatherburn</td>\n",
       "      <td>(267)644-8957</td>\n",
       "      <td>63940</td>\n",
       "    </tr>\n",
       "    <tr>\n",
       "      <th>998</th>\n",
       "      <td>81</td>\n",
       "      <td>sphetterq@toplist.cz</td>\n",
       "      <td>Sammy</td>\n",
       "      <td>Male</td>\n",
       "      <td>30.133.159.63</td>\n",
       "      <td>Dymick</td>\n",
       "      <td>(146)538-5595</td>\n",
       "      <td>24265</td>\n",
       "    </tr>\n",
       "    <tr>\n",
       "      <th>999</th>\n",
       "      <td>70</td>\n",
       "      <td>jtyresrr@slashdot.org</td>\n",
       "      <td>Josiah</td>\n",
       "      <td>Male</td>\n",
       "      <td>82.208.90.242</td>\n",
       "      <td>Ayshford</td>\n",
       "      <td>(571)127-0586</td>\n",
       "      <td>61774</td>\n",
       "    </tr>\n",
       "  </tbody>\n",
       "</table>\n",
       "<p>1000 rows × 8 columns</p>\n",
       "</div>"
      ],
      "text/plain": [
       "     age                           email first_name  gender       ip_address  \\\n",
       "0     60     gshoreson0@seattletimes.com     Gordon    Male    230.97.219.70   \n",
       "1     47              eweaben1@salon.com    Elenore  Female   202.253.80.173   \n",
       "2     27         akillerby2@gravatar.com       Abbe    Male    15.120.128.79   \n",
       "3     46               gsainz3@zdnet.com      Guido    Male   71.234.147.178   \n",
       "4     72        bdanilewicz4@4shared.com      Brody    Male   68.192.188.136   \n",
       "5     46       sdeerness5@wikispaces.com     Shalne  Female    204.227.6.124   \n",
       "6     53          jstillwell6@ustream.tv      Joell  Female   37.146.221.194   \n",
       "7     29          mpriestland7@opera.com    Manfred    Male     67.64.181.77   \n",
       "8     39        nerickssen8@hatena.ne.jp     Neille  Female   180.183.192.79   \n",
       "9     45              hparsell9@xing.com      Henri    Male    32.181.36.170   \n",
       "10    26                 acopasa@fda.gov    Alyosha    Male   36.177.179.182   \n",
       "11    83        bdanielovitchb@jigsy.com     Berkie    Male    86.81.145.219   \n",
       "12    73              cwestbergc@psu.edu    Caresse  Female     28.243.72.29   \n",
       "13    30          jlarived@goodreads.com         Jo  Female     165.251.5.90   \n",
       "14    69             mchallisse@ning.com   Marcelia  Female   148.248.57.176   \n",
       "15    29            cbrognotf@ebay.co.uk       Clim    Male    39.47.253.182   \n",
       "16    45              aphearg@tumblr.com      Arnie    Male    88.180.58.248   \n",
       "17     3             askogginsh@jugem.jp     Astrix  Female    208.161.20.23   \n",
       "18    34       eondraseki@deviantart.com  Enriqueta  Female     1.26.229.204   \n",
       "19    37                 kcaswallj@is.gd    Kristen  Female    30.161.15.205   \n",
       "20    53          cpetrillok@cbsnews.com     Cletis    Male    205.38.38.180   \n",
       "21    58             bstratfordl@ted.com  Bernadine  Female    159.77.18.200   \n",
       "22    83     mandreichikm@shareasale.com       Mack    Male   37.233.225.215   \n",
       "23    47              jsegarn@sfgate.com      Jonas    Male   45.144.205.179   \n",
       "24    51        aurridgeo@purevolume.com    Antoine    Male    101.79.179.65   \n",
       "25    65                njandap@ebay.com    Nichols    Male    155.44.138.46   \n",
       "26    26             lwathallq@exblog.jp      Lorie  Female   79.106.191.247   \n",
       "27    57      aoveringtonr@canalblog.com     Alissa  Female     148.136.49.1   \n",
       "28    39                dbrellins@ft.com       Dona  Female     82.233.62.39   \n",
       "29    26              ebukact@toplist.cz       Essa  Female  191.180.218.203   \n",
       "..   ...                             ...        ...     ...              ...   \n",
       "970   47        dsessionsqy@sakura.ne.jp     Dehlia  Female      4.190.6.161   \n",
       "971   25      vkondratenkoqz@cornell.edu       Vick    Male  142.247.110.109   \n",
       "972   43         tbrethertonr0@lycos.com      Tilda  Female   110.232.61.135   \n",
       "973   65        srenfrewr1@shinystat.com     Stacey  Female  100.110.251.127   \n",
       "974   47       jjoiceyr2@theatlantic.com     Justin    Male   111.102.229.23   \n",
       "975   20           bborleacer3@naver.com       Beck    Male   235.145.58.208   \n",
       "976   33         lmackeer4@reference.com      Lilla  Female   134.25.245.204   \n",
       "977   37         mpaolicchir5@utexas.edu     Mellie  Female   134.131.44.209   \n",
       "978   52              lgaliar6@lycos.com    Laverne  Female    119.36.146.55   \n",
       "979   25  ldemcakr7@networksolutions.com        Lee  Female    62.235.73.154   \n",
       "980   35            ide giorgior8@360.cn     Ilario    Male  221.122.195.221   \n",
       "981   41            mmctrustyr9@jugem.jp     Merell    Male    27.180.39.146   \n",
       "982   63           ekohnra@amazonaws.com       Elia    Male  219.249.104.182   \n",
       "983   35        mmillmorerb@hatena.ne.jp      Minor    Male    28.203.151.80   \n",
       "984   20           lchaudrellerc@soup.io        Lon    Male   41.164.159.120   \n",
       "985   43            iavramovitzrd@ft.com        Ivy  Female  156.241.220.163   \n",
       "986   32         rreaneyre@canalblog.com       Rory  Female      88.61.92.34   \n",
       "987   30    sscawnrf@businessinsider.com    Sampson    Male    167.100.18.51   \n",
       "988   48         lharbronrg@slashdot.org      Levey    Male  247.242.143.144   \n",
       "989   37              pgurnayrh@uiuc.edu    Padgett    Male    232.159.28.11   \n",
       "990   31                 ckyngeri@hp.com    Chryste  Female   158.126.242.37   \n",
       "991   55     cboothroydrj@yellowbook.com   Charlena    None    164.13.253.57   \n",
       "992   14             kbrunkerrk@hibu.com       Keen    Male    228.227.8.245   \n",
       "993   65             sleallerl@wikia.com      Selle  Female     42.147.60.17   \n",
       "994   38          kbeefonrm@vkontakte.ru    Karylin  Female     22.178.83.93   \n",
       "995    3           pstroulgerrn@time.com   Penelopa  Female  116.139.135.110   \n",
       "996   49     kbasnettro@seattletimes.com      Kandy  Female    204.88.246.32   \n",
       "997   75     pmortlockrp@liveinternet.ru       Paco    Male   223.217.138.28   \n",
       "998   81            sphetterq@toplist.cz      Sammy    Male    30.133.159.63   \n",
       "999   70           jtyresrr@slashdot.org     Josiah    Male    82.208.90.242   \n",
       "\n",
       "       last_name          phone    zip  \n",
       "0      DelaField  (245)663-9899   6705  \n",
       "1        Gravett  (445)749-6402  40330  \n",
       "2      Stockdale  (312)997-8947  44139  \n",
       "3        Comfort  (530)815-7417  44201  \n",
       "4       Pinckard  (214)138-6981  72956  \n",
       "5          Smail  (918)972-0284  53086  \n",
       "6    Bowlesworth  (113)112-6771  52073  \n",
       "7        Bricket  (665)414-5000  92617  \n",
       "8        McCahey  (218)925-2761  55027  \n",
       "9     Scotchford  (433)404-7429  74647  \n",
       "10       Scollan  (375)464-4912  50255  \n",
       "11    Ciementini  (678)997-5536  97842  \n",
       "12       Cubbino  (920)742-0040  97004  \n",
       "13      Grangier  (928)244-7440  37821  \n",
       "14       Dimitru  (727)125-0315  93255  \n",
       "15        Roddam  (185)375-0188  98068  \n",
       "16         Raoux  (805)542-0438   8074  \n",
       "17        Grooby  (841)267-7102  20005  \n",
       "18       Raggles  (639)538-7115  42347  \n",
       "19       Vennart  (104)768-2999  52768  \n",
       "20      Gulliman  (274)183-1917  73150  \n",
       "21     La Padula  (981)342-5337  57313  \n",
       "22     Hanwright  (605)741-2122  88052  \n",
       "23        Checci  (460)335-2421  60073  \n",
       "24       Lukovic  (996)835-2682  44010  \n",
       "25     Flintoffe  (919)465-9344  55438  \n",
       "26        Jeskin  (517)796-3878  70726  \n",
       "27     Ganforthe  (175)703-9055  72576  \n",
       "28     Dumberell  (666)800-4626  96161  \n",
       "29       Kaveney  (802)233-2511  34639  \n",
       "..           ...            ...    ...  \n",
       "970         Ades  (877)340-3983  81631  \n",
       "971       Ketley  (691)781-9582  23146  \n",
       "972      Cossins  (323)288-9679  79530  \n",
       "973      Quinion  (452)309-2781  74726  \n",
       "974     Bockings  (498)521-4884  22579  \n",
       "975      Jerrand  (871)168-1695  50315  \n",
       "976        Pyffe  (646)378-6618  18037  \n",
       "977      Airdrie  (691)913-9932  74054  \n",
       "978        Flint  (792)766-3084  47270  \n",
       "979        Vasic  (626)210-9784  66023  \n",
       "980      Mannagh  (501)588-7995  95113  \n",
       "981          Kop  (532)164-3700  16508  \n",
       "982     Stedmond  (160)896-8551  47515  \n",
       "983     Kynaston  (312)645-4661  80654  \n",
       "984       Dyster  (142)357-9842  54234  \n",
       "985        Cardo  (690)781-2853   1022  \n",
       "986       Jersch  (461)911-4511  30176  \n",
       "987      Wrangle  (275)423-6242  19119  \n",
       "988        Towle  (828)103-0054  95492  \n",
       "989        Angus  (214)353-4128  88411  \n",
       "990   Kennington  (443)231-5097   1568  \n",
       "991      Johncey  (746)900-3948  98548  \n",
       "992    MacDermot  (602)869-5523  50431  \n",
       "993     Burleton  (320)646-8913  58005  \n",
       "994      Crosbie  (519)281-1309   1826  \n",
       "995        Roman  (267)574-3068  82944  \n",
       "996       Cossam  (790)556-4502  10455  \n",
       "997  Weatherburn  (267)644-8957  63940  \n",
       "998       Dymick  (146)538-5595  24265  \n",
       "999     Ayshford  (571)127-0586  61774  \n",
       "\n",
       "[1000 rows x 8 columns]"
      ]
     },
     "execution_count": 27,
     "metadata": {},
     "output_type": "execute_result"
    }
   ],
   "source": [
    "df_users = pd.DataFrame(pd.read_json('user_dat.json', lines=True))\n",
    "df_users"
   ]
  },
  {
   "cell_type": "code",
   "execution_count": null,
   "metadata": {
    "deletable": false,
    "editable": false,
    "nbgrader": {
     "grade": true,
     "grade_id": "2a-tests",
     "locked": true,
     "points": 0.5,
     "schema_version": 1,
     "solution": false
    }
   },
   "outputs": [],
   "source": [
    "assert isinstance(df_users, pd.DataFrame)\n"
   ]
  },
  {
   "cell_type": "markdown",
   "metadata": {},
   "source": [
    "### 3b) Drop personal attributes \n",
    "\n",
    "Remove any personal information, following the Safe Harbour method.\n",
    "Based on the Safe Harbour method, remove any columns from `df_users` that contain personal information. Note that details on the Safe Harbour method are covered in the Tutorials.\n",
    "\n"
   ]
  },
  {
   "cell_type": "code",
   "execution_count": null,
   "metadata": {
    "deletable": false,
    "nbgrader": {
     "grade": false,
     "grade_id": "2b",
     "locked": false,
     "schema_version": 1,
     "solution": true
    }
   },
   "outputs": [],
   "source": [
    "df_users.drop(['email', 'first_name', 'last_name', 'ip_address', 'phone'], axis=1, inplace=True)"
   ]
  },
  {
   "cell_type": "code",
   "execution_count": null,
   "metadata": {
    "deletable": false,
    "editable": false,
    "nbgrader": {
     "grade": true,
     "grade_id": "2b-tests",
     "locked": true,
     "points": 0.5,
     "schema_version": 1,
     "solution": false
    }
   },
   "outputs": [],
   "source": [
    "assert len(df_users.columns) == 3\n"
   ]
  },
  {
   "cell_type": "markdown",
   "metadata": {},
   "source": [
    "### 3c) Drop ages that are above 90 \n",
    "\n",
    "Safe Harbour rule C: Drop all the rows which have age greater than 90 from `df_users`."
   ]
  },
  {
   "cell_type": "code",
   "execution_count": null,
   "metadata": {
    "deletable": false,
    "nbgrader": {
     "grade": false,
     "grade_id": "2c",
     "locked": false,
     "schema_version": 1,
     "solution": true
    }
   },
   "outputs": [],
   "source": [
    "df_users = df_users[df_users['age'] <= 90]"
   ]
  },
  {
   "cell_type": "code",
   "execution_count": null,
   "metadata": {
    "deletable": false,
    "editable": false,
    "nbgrader": {
     "grade": true,
     "grade_id": "2c-tests",
     "locked": true,
     "points": 0.5,
     "schema_version": 1,
     "solution": false
    }
   },
   "outputs": [],
   "source": [
    "assert df_users.shape == (993, 3)\n"
   ]
  },
  {
   "cell_type": "markdown",
   "metadata": {},
   "source": [
    "### 3d) Load in zip code data \n",
    "\n",
    "Load the zip_pop.csv file into a (different) pandas dataframe. Call it `df_zip`.\n",
    "Note that the zip data should be read in as strings, not ints, as would be the default. \n",
    "In read_csv, use the parameter `dtype` to specify to read `zip` as str, and `population` as int."
   ]
  },
  {
   "cell_type": "code",
   "execution_count": null,
   "metadata": {
    "deletable": false,
    "nbgrader": {
     "grade": false,
     "grade_id": "2d",
     "locked": false,
     "schema_version": 1,
     "solution": true
    }
   },
   "outputs": [],
   "source": [
    "df_zip = pd.read_csv('zip_pop.csv', dtype={'zip':str, 'population':int})"
   ]
  },
  {
   "cell_type": "code",
   "execution_count": null,
   "metadata": {
    "deletable": false,
    "editable": false,
    "nbgrader": {
     "grade": true,
     "grade_id": "2d-tests",
     "locked": true,
     "points": 0.5,
     "schema_version": 1,
     "solution": false
    }
   },
   "outputs": [],
   "source": [
    "assert isinstance(df_zip, pd.DataFrame)\n"
   ]
  },
  {
   "cell_type": "markdown",
   "metadata": {},
   "source": [
    "### 3e) Sort zipcodes into \"Geographic Subdivision\" \n",
    "\n",
    "The Safe Harbour Method applies to \"Geographic Subdivisions\"\n",
    "  as opposed to each zipcode itself. \n",
    "Geographic Subdivision:\n",
    "  All areas which share the first 3 digits of a zip code\n",
    "\n",
    "Count the total population for each geographic subdivision\n",
    "Warning: you have to be savy with a dictionary here\n",
    "To understand how a dictionary works, check the section materials,\n",
    "  use google and go to discussion sections!\n",
    "\n",
    "Instructions: \n",
    "- Create an empty dictionary: ```zip_dict = {}```\n",
    "- Loop through all the zip_codes in df_zip\n",
    "- Create a dictionary key for the first 3 digits of a zip_code in zip_dict\n",
    "- Continually add population counts to the key that contains the \n",
    "    same first 3 digits of the zip code\n",
    "\n",
    "To extract the population you will find this code useful:\n",
    "\n",
    "```python\n",
    "population = list(df_zip.loc[df_zip['zip'] == zip_code]['population'])\n",
    "```\n",
    "\n",
    "To extract the first 3 digits of a zip_code you will find this code useful:\n",
    "```python\n",
    "int(str(zip_code)[:3])\n",
    "```\n",
    "Note: this code may take some time (many seconds, up to a minute or two) to run\n",
    "\n"
   ]
  },
  {
   "cell_type": "code",
   "execution_count": null,
   "metadata": {
    "deletable": false,
    "nbgrader": {
     "grade": false,
     "grade_id": "2e",
     "locked": false,
     "schema_version": 1,
     "solution": true
    }
   },
   "outputs": [],
   "source": [
    "zip_dict = {}\n",
    "zip_codes = list(pd.Series(df_zip['zip']))\n",
    "for zip_code in zip_codes:\n",
    "    substr_zip = int(str(zip_code)[:3])\n",
    "    population = list(df_zip.loc[df_zip['zip'] == zip_code]['population'])\n",
    "    pop_count = sum(population)\n",
    "    if substr_zip in zip_dict.keys():\n",
    "        zip_dict[substr_zip] += pop_count\n",
    "    else:\n",
    "        zip_dict[substr_zip] = pop_count"
   ]
  },
  {
   "cell_type": "code",
   "execution_count": null,
   "metadata": {
    "deletable": false,
    "editable": false,
    "nbgrader": {
     "grade": true,
     "grade_id": "2e-tests",
     "locked": true,
     "points": 1.25,
     "schema_version": 1,
     "solution": false
    }
   },
   "outputs": [],
   "source": [
    "assert isinstance(zip_dict, dict)\n",
    "assert zip_dict[100] == 1502501\n"
   ]
  },
  {
   "cell_type": "markdown",
   "metadata": {},
   "source": [
    "### 3f) Explain this code excerpt \n",
    "Note: you do not have to use this line of code at this point in the assignment.\n",
    "It is one of the lines provided to you in 2e. Here, just write a quick comment on what it does. This question will not be graded, but it's important to be able to read other people's code."
   ]
  },
  {
   "cell_type": "code",
   "execution_count": null,
   "metadata": {
    "deletable": false,
    "editable": false,
    "nbgrader": {
     "grade": false,
     "grade_id": "2f",
     "locked": true,
     "schema_version": 1,
     "solution": false
    }
   },
   "outputs": [],
   "source": [
    "# In the cell below, explain in words what what the following line of code is doing:\n",
    "population = list(df_zip.loc[df_zip['zip'] == zip_code]['population'])"
   ]
  },
  {
   "cell_type": "markdown",
   "metadata": {
    "collapsed": true,
    "deletable": false,
    "nbgrader": {
     "grade": true,
     "grade_id": "2f-write",
     "locked": false,
     "points": 0,
     "schema_version": 1,
     "solution": true
    }
   },
   "source": [
    "The code uses a conditional statement which splices a dataframe using .loc which returns a dataframe. It then gets the population form the results and cast it into a list."
   ]
  },
  {
   "cell_type": "markdown",
   "metadata": {},
   "source": [
    "### 3g) Masking the Zip Codes \n",
    "\n",
    "In this part, you should write a for loop, updating the df_users dataframe.\n",
    "Go through each user, and update their zip-code, to Safe Harbour specifications:\n",
    "- If the user is from a zip code for the which the \"Geographic Subdivision\" is less than equal to 20000, change the zip code to 0 \n",
    "- Otherwise, change the zip code to be only the first 3 numbers of the full zip cide\n",
    "- Do all this re-writting the zip_code columns of the `df_users` DataFrame\n",
    "\n",
    "Hints: This will be several lines of code, looping through the DataFrame, getting each zip code, checking the geographic subdivision with the population in `zip_dict`, and settig the `zip_code` accordingly. "
   ]
  },
  {
   "cell_type": "code",
   "execution_count": null,
   "metadata": {
    "deletable": false,
    "nbgrader": {
     "grade": false,
     "grade_id": "2g",
     "locked": false,
     "schema_version": 1,
     "solution": true
    }
   },
   "outputs": [],
   "source": [
    "for index, row in df_users.iterrows():\n",
    "    zip_code = row['zip']\n",
    "    substr_zip = int(str(zip_code)[:3])\n",
    "    geo_substr_num = zip_dict[substr_zip]\n",
    "    if geo_substr_num <=20000:\n",
    "        df_users.loc[index, 'zip'] = 0\n",
    "    else:\n",
    "        df_users.loc[index, 'zip'] = substr_zip\n",
    "print(sum(df_users.zip == 0))"
   ]
  },
  {
   "cell_type": "code",
   "execution_count": null,
   "metadata": {
    "deletable": false,
    "editable": false,
    "nbgrader": {
     "grade": true,
     "grade_id": "2g-tests",
     "locked": true,
     "points": 1.25,
     "schema_version": 1,
     "solution": false
    }
   },
   "outputs": [],
   "source": [
    "assert len(df_users) == 993\n",
    "assert sum(df_users.zip == 0) == 7\n",
    "assert df_users.loc[671, 'zip'] == 359\n"
   ]
  },
  {
   "cell_type": "markdown",
   "metadata": {},
   "source": [
    "### 3h) Save out the properly anonymized data to json file \n",
    "\n",
    "Save out df_users as a json file, called `real_anon_user_dat.json`"
   ]
  },
  {
   "cell_type": "code",
   "execution_count": null,
   "metadata": {
    "deletable": false,
    "nbgrader": {
     "grade": false,
     "grade_id": "2h",
     "locked": false,
     "schema_version": 1,
     "solution": true
    }
   },
   "outputs": [],
   "source": [
    "real_anon_user_dat = df_users.to_json()"
   ]
  },
  {
   "cell_type": "code",
   "execution_count": null,
   "metadata": {
    "deletable": false,
    "editable": false,
    "nbgrader": {
     "grade": true,
     "grade_id": "2h-tests",
     "locked": true,
     "points": 0.5,
     "schema_version": 1,
     "solution": false
    }
   },
   "outputs": [],
   "source": [
    "assert isinstance(pd.read_json('real_anon_user_dat.json'), pd.DataFrame)"
   ]
  },
  {
   "cell_type": "markdown",
   "metadata": {
    "deletable": false,
    "editable": false,
    "nbgrader": {
     "grade": false,
     "grade_id": "finish",
     "locked": true,
     "schema_version": 1,
     "solution": false
    }
   },
   "source": [
    "Congrats, you're done! The users identities are much more protected now. \n",
    "\n",
    "Submit this notebook file to TritonED."
   ]
  },
  {
   "cell_type": "code",
   "execution_count": null,
   "metadata": {},
   "outputs": [],
   "source": []
  }
 ],
 "metadata": {
  "kernelspec": {
   "display_name": "Python 3",
   "language": "python",
   "name": "python3"
  },
  "language_info": {
   "codemirror_mode": {
    "name": "ipython",
    "version": 3
   },
   "file_extension": ".py",
   "mimetype": "text/x-python",
   "name": "python",
   "nbconvert_exporter": "python",
   "pygments_lexer": "ipython3",
   "version": "3.7.1"
  }
 },
 "nbformat": 4,
 "nbformat_minor": 2
}
