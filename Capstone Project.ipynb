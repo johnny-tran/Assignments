{
 "cells": [
  {
   "cell_type": "code",
   "execution_count": null,
   "metadata": {},
   "outputs": [],
   "source": [
    "# Imports -  These are all you need for the assignment: do not import additional packages\n",
    "%matplotlib inline\n",
    "\n",
    "import numpy as np\n",
    "import pandas as pd\n",
    "import matplotlib.pyplot as plt\n",
    "\n",
    "import patsy\n",
    "import statsmodels.api as sm\n",
    "import scipy.stats as stats\n",
    "from scipy.stats import ttest_ind, chisquare, normaltest"
   ]
  },
  {
   "cell_type": "code",
   "execution_count": null,
   "metadata": {},
   "outputs": [],
   "source": [
    "#read parking citations(PC) file\n",
    "PC_df = pd.read_csv(\"parking-citations.csv\")\n",
    "\n",
    "#read agency codes(AC) file\n",
    "#AC_df = pd.read_csv(\"LADOT-Xerox Crib Sheet Agency Codes 12-31-2015 (1).csv p\")\n",
    "\n",
    "PC_df.head()"
   ]
  },
  {
   "cell_type": "code",
   "execution_count": null,
   "metadata": {},
   "outputs": [],
   "source": [
    "#remove unnecessary columns\n",
    "PC_df = PC_df.drop(['Ticket number', 'Issue Date', 'Issue time', 'Meter Id', 'Marked Time', 'RP State Plate', 'Plate Expiry Date', 'VIN', 'Location', 'Route', 'Fine amount', 'Latitude', 'Longitude'], axis=1)\n",
    "\n",
    "PC_df.head()\n"
   ]
  },
  {
   "cell_type": "code",
   "execution_count": null,
   "metadata": {},
   "outputs": [],
   "source": [
    "#PC_df.loc[PC_df[PC_df['Agency'] == 1.0, ['Color']]]\n",
    "\n",
    "#PC_df[PC_df['Agency'] == 1.0]['Color'].unique()\n",
    "PC_df['Color'].unique()\n",
    "\n",
    "# standardize car colors\n",
    "def standardize_color(string):\n",
    "    \n",
    "    string = string.lower()\n",
    "    string = string.strip()\n",
    "    \n",
    "    if \"cog\" in string:\n",
    "        output = \"COGSCI\"\n",
    "    elif \"computer\" in string:\n",
    "        output = \"COMPSCI\"\n",
    "    elif \"cs\" in string:\n",
    "        output = \"COMPSCI\"\n",
    "    elif \"math\" in string:\n",
    "        output = \"MATH\"\n",
    "    elif \"electrical\" in string:\n",
    "        output = \"ECE\"\n",
    "    elif \"bio\" in string:\n",
    "        output = \"BIO\"\n",
    "    elif \"chem\" in string:\n",
    "        output = \"CHEM\"\n",
    "    # Otherwise, if uncaught - keep as is\n",
    "    else:\n",
    "        output = string\n",
    "    \n",
    "    return output"
   ]
  },
  {
   "cell_type": "code",
   "execution_count": null,
   "metadata": {},
   "outputs": [],
   "source": [
    "### Agency 1.0\n",
    "GY = gray\n",
    "\n",
    "WH = white\n",
    "\n",
    "BK = black\n",
    "\n",
    "BL = blue\n",
    "\n",
    "BR = brown\n",
    "\n",
    "SI = silver\n",
    "\n",
    "GO = gold\n",
    "\n",
    "RE = red\n",
    "\n",
    "MA\n",
    "\n",
    "TA\n",
    "\n",
    "GR = green\n",
    "\n",
    "BE\n",
    "\n",
    "BU\n",
    "\n",
    "YE = yellow\n",
    "\n",
    "OR = orange\n",
    "\n",
    "PU = purple\n",
    "\n",
    "TU\n"
   ]
  },
  {
   "cell_type": "code",
   "execution_count": null,
   "metadata": {},
   "outputs": [],
   "source": [
    "MA = \n",
    "TA = \n",
    "WT = \n",
    "RD = red\n",
    "SL = silver\n",
    "BN = brown\n",
    "OT = ?\n",
    "GN = green\n",
    "MR = ?\n",
    "BG = ?\n",
    "PR = purple\n",
    "TN = tan\n",
    "UN = ?\n",
    "PK =  pink\n",
    "TU = ?\n",
    "CO = cobolt?\n",
    "BE = ?\n",
    "RU = rust?\n",
    "PL = ?\n",
    "CR = cream\n",
    "SN = sand\n",
    "PE = ?\n",
    "BZ = \n",
    "PI = pink\n",
    "ME = ?\n",
    "CH = \n",
    "TE = teal\n",
    "LI = \n",
    "MU = "
   ]
  }
 ],
 "metadata": {
  "kernelspec": {
   "display_name": "Python 3",
   "language": "python",
   "name": "python3"
  },
  "language_info": {
   "codemirror_mode": {
    "name": "ipython",
    "version": 3
   },
   "file_extension": ".py",
   "mimetype": "text/x-python",
   "name": "python",
   "nbconvert_exporter": "python",
   "pygments_lexer": "ipython3",
   "version": "3.7.1"
  }
 },
 "nbformat": 4,
 "nbformat_minor": 2
}
