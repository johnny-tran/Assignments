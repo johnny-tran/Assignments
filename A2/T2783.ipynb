{
 "cells": [
  {
   "cell_type": "markdown",
   "metadata": {
    "collapsed": true,
    "deletable": false,
    "editable": false,
    "nbgrader": {
     "checksum": "69dc79a98716b6e1164c70b1e4e20d44",
     "grade": false,
     "grade_id": "title",
     "locked": true,
     "schema_version": 1,
     "solution": false
    }
   },
   "source": [
    "# COGS 108 - Assignment 2: Data Exploration"
   ]
  },
  {
   "cell_type": "markdown",
   "metadata": {
    "deletable": false,
    "editable": false,
    "nbgrader": {
     "checksum": "2f36e26493f65f2b16f0230c46f70f3e",
     "grade": false,
     "grade_id": "submission",
     "locked": true,
     "schema_version": 1,
     "solution": false
    }
   },
   "source": [
    "# Important\n",
    "\n",
    "**You must submit this file (`A2_DataExploration.ipynb`) to TritonED to finish the homework.**\n",
    "\n",
    "**This assignment has more than 5 times as many questions as A1! Get started as early as possible.**\n",
    "\n",
    "This assignment has hidden tests: tests that are not visible here, but that will be run on your submitted assignment.\n",
    "\n",
    "- This means passing all the tests you can see in the notebook here does not guarantee you have the right answer!\n",
    "\n",
    "Each coding question in this assignment only requires a small amount of code, about 1-3 lines. \n",
    "\n",
    "  - If you find yourself writing much more than that, you might want to reconsider your approach. \n",
    "  - Use the Tutorials notebooks as reference, as they often contain similar examples to those used in the assignment."
   ]
  },
  {
   "cell_type": "code",
   "execution_count": 1,
   "metadata": {
    "deletable": false,
    "editable": false,
    "nbgrader": {
     "checksum": "271b258c19b889b4357400626f7cf9ef",
     "grade": false,
     "grade_id": "cell-fca732b050a3b0b8",
     "locked": true,
     "schema_version": 1,
     "solution": false
    }
   },
   "outputs": [],
   "source": [
    "# Imports\n",
    "# \n",
    "# Note: these are all the imports you need for this assignment!\n",
    "# Do not import any other functions / packages\n",
    "\n",
    "# Display plots directly in the notebook instead of in a new window\n",
    "%matplotlib inline\n",
    "\n",
    "# Import libraries\n",
    "import numpy as np\n",
    "import pandas as pd\n",
    "import matplotlib.pyplot as plt\n",
    "import seaborn as sns"
   ]
  },
  {
   "cell_type": "code",
   "execution_count": 2,
   "metadata": {
    "deletable": false,
    "editable": false,
    "nbgrader": {
     "checksum": "9e9d30b2be8a7ab888b24db65cbc4355",
     "grade": false,
     "grade_id": "cell-ae128c474f27ec12",
     "locked": true,
     "schema_version": 1,
     "solution": false
    }
   },
   "outputs": [],
   "source": [
    "# Configure libraries\n",
    "# The seaborn library makes plots look nicer\n",
    "sns.set()\n",
    "sns.set_context('talk')\n",
    "\n",
    "# Don't display too many rows/cols of DataFrames\n",
    "pd.options.display.max_rows = 7\n",
    "pd.options.display.max_columns = 8\n",
    "\n",
    "# Round decimals when displaying DataFrames\n",
    "pd.set_option('precision', 2)"
   ]
  },
  {
   "cell_type": "markdown",
   "metadata": {
    "deletable": false,
    "editable": false,
    "nbgrader": {
     "checksum": "aae5d0b6ba77e6be73423d198af52a01",
     "grade": false,
     "grade_id": "part1",
     "locked": true,
     "schema_version": 1,
     "solution": false
    }
   },
   "source": [
    "## Part 1 - Data Wrangling\n",
    "\n",
    "For this assignment, you are provided with two data files that contain information on a sample of people. The two files and their columns are:\n",
    "\n",
    "- `age_steps.csv`: Contains one row for each person.\n",
    "    - `id`: Unique identifier for the person.\n",
    "    - `age`: Age of the person.\n",
    "    - `steps`: Number of steps the person took on average in January 2018.\n",
    "    \n",
    "    \n",
    "- `incomes.json`: Contains one record for each person.\n",
    "    - `id`: Unique identifier for the person. Two records with the same ID between `age_steps.csv` and `incomes.json` correspond to the same person.\n",
    "    - `last_name`: Last name of the person.\n",
    "    - `first_name`: First name of the person.\n",
    "    - `income`: Income of the person in 2018.\n",
    "    \n",
    "For part 1 and 2 of the assignment, we recommend looking at the official 10 minutes to pandas guide: http://pandas.pydata.org/pandas-docs/stable/10min.html"
   ]
  },
  {
   "cell_type": "markdown",
   "metadata": {},
   "source": [
    "**Question 1a:** Load the `age_steps.csv` file into a `pandas` DataFrame named `df_steps`. It should have 11850 rows and 3 columns."
   ]
  },
  {
   "cell_type": "code",
   "execution_count": 3,
   "metadata": {
    "deletable": false,
    "nbgrader": {
     "checksum": "c6d3dc639bcfe2ff97aae5524994d88b",
     "grade": false,
     "grade_id": "load_steps",
     "locked": false,
     "schema_version": 1,
     "solution": true
    }
   },
   "outputs": [],
   "source": [
    "df_steps = pd.read_csv('age_steps.csv')"
   ]
  },
  {
   "cell_type": "code",
   "execution_count": 4,
   "metadata": {
    "deletable": false,
    "editable": false,
    "nbgrader": {
     "checksum": "4a634d42572128d7d94ab6bae249a9c7",
     "grade": true,
     "grade_id": "test_load_steps",
     "locked": true,
     "points": 0.25,
     "schema_version": 1,
     "solution": false
    }
   },
   "outputs": [],
   "source": [
    "# Tests for 1a\n",
    "\n",
    "assert isinstance(df_steps, pd.DataFrame)\n",
    "assert df_steps.shape == (11850, 3)\n"
   ]
  },
  {
   "cell_type": "markdown",
   "metadata": {},
   "source": [
    "**Question 1b:** Load the `incomes.json` file into a `pandas` DataFrame called `df_income`. The DataFrame should have 13332 rows and 4 columns."
   ]
  },
  {
   "cell_type": "code",
   "execution_count": 5,
   "metadata": {
    "deletable": false,
    "nbgrader": {
     "checksum": "f1b777bb79781915d311f090d2397bbe",
     "grade": false,
     "grade_id": "load_income",
     "locked": false,
     "schema_version": 1,
     "solution": true
    }
   },
   "outputs": [],
   "source": [
    "df_income = pd.DataFrame(pd.read_json('incomes.json'))"
   ]
  },
  {
   "cell_type": "code",
   "execution_count": 6,
   "metadata": {
    "deletable": false,
    "editable": false,
    "nbgrader": {
     "checksum": "41b5233baf5226742d30427a641522ad",
     "grade": true,
     "grade_id": "test_load_income",
     "locked": true,
     "points": 0.25,
     "schema_version": 1,
     "solution": false
    }
   },
   "outputs": [],
   "source": [
    "# Tests for 1b\n",
    "\n",
    "assert isinstance(df_income, pd.DataFrame)\n",
    "assert df_income.shape == (13332, 4)\n"
   ]
  },
  {
   "cell_type": "markdown",
   "metadata": {},
   "source": [
    "**Question 1c:** Drop the `first_name` and `last_name` columns from the `df_income` DataFrame. The resulting DataFrame should only have two columns."
   ]
  },
  {
   "cell_type": "code",
   "execution_count": 7,
   "metadata": {
    "deletable": false,
    "nbgrader": {
     "checksum": "8d3786f3780296f277441c3f37c82530",
     "grade": false,
     "grade_id": "drop_extra_cols",
     "locked": false,
     "schema_version": 1,
     "solution": true
    }
   },
   "outputs": [],
   "source": [
    "df_income = df_income.drop(['first_name', 'last_name'], axis=1)"
   ]
  },
  {
   "cell_type": "code",
   "execution_count": 8,
   "metadata": {
    "deletable": false,
    "editable": false,
    "nbgrader": {
     "checksum": "bfe237a99eeff1a5db163d622528f750",
     "grade": true,
     "grade_id": "test_drop_ext_cols",
     "locked": true,
     "points": 0.25,
     "schema_version": 1,
     "solution": false
    }
   },
   "outputs": [],
   "source": [
    "# Tests for 1c\n",
    "\n",
    "assert 'first_name' not in df_income.columns\n",
    "assert 'last_name' not in df_income.columns\n"
   ]
  },
  {
   "cell_type": "markdown",
   "metadata": {},
   "source": [
    "**Question 1d:** Merge the `df_steps` and `df_income` DataFrames into a single combined DataFrame called `df`. Use the `id` column to match rows together.\n",
    "\n",
    "The final DataFrame should have 10664 rows and 4 columns: `id`, `income`, `age`, and `steps`.\n",
    "\n",
    "Call an appropriate `pandas` method to perform this operation; don't write a `for` loop. (In general, writing a `for` loop for a DataFrame will produce poor results.)"
   ]
  },
  {
   "cell_type": "code",
   "execution_count": 9,
   "metadata": {
    "deletable": false,
    "nbgrader": {
     "checksum": "52d3e5c9c383481ee39e22c91902b338",
     "grade": false,
     "grade_id": "merge_dat",
     "locked": false,
     "schema_version": 1,
     "solution": true
    }
   },
   "outputs": [],
   "source": [
    "df = pd.merge(df_steps, df_income[['id', 'income']], on='id')"
   ]
  },
  {
   "cell_type": "code",
   "execution_count": 10,
   "metadata": {
    "deletable": false,
    "editable": false,
    "nbgrader": {
     "checksum": "579717522d6a278eb5c85e67af207db5",
     "grade": true,
     "grade_id": "test_merge_dat",
     "locked": true,
     "points": 0.5,
     "schema_version": 1,
     "solution": false
    }
   },
   "outputs": [],
   "source": [
    "# Tests for 1d\n",
    "\n",
    "assert isinstance(df, pd.DataFrame)\n",
    "assert set(df.columns) == set(['id', 'income', 'age', 'steps'])\n",
    "assert df.shape == (10664, 4)\n"
   ]
  },
  {
   "cell_type": "markdown",
   "metadata": {},
   "source": [
    "**Question 1e:** Reorder the columns of `df` so that they appear in the order: `id`, `age`, `steps`, then `income`."
   ]
  },
  {
   "cell_type": "code",
   "execution_count": 11,
   "metadata": {
    "deletable": false,
    "nbgrader": {
     "checksum": "df78d0000b8e37809e58fc5d57580442",
     "grade": false,
     "grade_id": "reorder_cols",
     "locked": false,
     "schema_version": 1,
     "solution": true
    }
   },
   "outputs": [
    {
     "data": {
      "text/html": [
       "<div>\n",
       "<style scoped>\n",
       "    .dataframe tbody tr th:only-of-type {\n",
       "        vertical-align: middle;\n",
       "    }\n",
       "\n",
       "    .dataframe tbody tr th {\n",
       "        vertical-align: top;\n",
       "    }\n",
       "\n",
       "    .dataframe thead th {\n",
       "        text-align: right;\n",
       "    }\n",
       "</style>\n",
       "<table border=\"1\" class=\"dataframe\">\n",
       "  <thead>\n",
       "    <tr style=\"text-align: right;\">\n",
       "      <th></th>\n",
       "      <th>id</th>\n",
       "      <th>age</th>\n",
       "      <th>steps</th>\n",
       "      <th>income</th>\n",
       "    </tr>\n",
       "  </thead>\n",
       "  <tbody>\n",
       "    <tr>\n",
       "      <th>0</th>\n",
       "      <td>37475</td>\n",
       "      <td>46</td>\n",
       "      <td>5951</td>\n",
       "      <td>48515.39</td>\n",
       "    </tr>\n",
       "    <tr>\n",
       "      <th>1</th>\n",
       "      <td>51201</td>\n",
       "      <td>36</td>\n",
       "      <td>10139</td>\n",
       "      <td>37688.26</td>\n",
       "    </tr>\n",
       "    <tr>\n",
       "      <th>2</th>\n",
       "      <td>77330</td>\n",
       "      <td>50</td>\n",
       "      <td>-1</td>\n",
       "      <td>37606.16</td>\n",
       "    </tr>\n",
       "    <tr>\n",
       "      <th>...</th>\n",
       "      <td>...</td>\n",
       "      <td>...</td>\n",
       "      <td>...</td>\n",
       "      <td>...</td>\n",
       "    </tr>\n",
       "    <tr>\n",
       "      <th>10661</th>\n",
       "      <td>27343</td>\n",
       "      <td>34</td>\n",
       "      <td>-1</td>\n",
       "      <td>NaN</td>\n",
       "    </tr>\n",
       "    <tr>\n",
       "      <th>10662</th>\n",
       "      <td>39197</td>\n",
       "      <td>52</td>\n",
       "      <td>7580</td>\n",
       "      <td>12469.22</td>\n",
       "    </tr>\n",
       "    <tr>\n",
       "      <th>10663</th>\n",
       "      <td>77950</td>\n",
       "      <td>29</td>\n",
       "      <td>8888</td>\n",
       "      <td>69797.18</td>\n",
       "    </tr>\n",
       "  </tbody>\n",
       "</table>\n",
       "<p>10664 rows × 4 columns</p>\n",
       "</div>"
      ],
      "text/plain": [
       "          id  age  steps    income\n",
       "0      37475   46   5951  48515.39\n",
       "1      51201   36  10139  37688.26\n",
       "2      77330   50     -1  37606.16\n",
       "...      ...  ...    ...       ...\n",
       "10661  27343   34     -1       NaN\n",
       "10662  39197   52   7580  12469.22\n",
       "10663  77950   29   8888  69797.18\n",
       "\n",
       "[10664 rows x 4 columns]"
      ]
     },
     "execution_count": 11,
     "metadata": {},
     "output_type": "execute_result"
    }
   ],
   "source": [
    "df \n",
    "#df is already in this said order once merging the 2 data sets..."
   ]
  },
  {
   "cell_type": "code",
   "execution_count": 12,
   "metadata": {
    "deletable": false,
    "editable": false,
    "nbgrader": {
     "checksum": "4efcf75ac0377e914a658ca68a320f98",
     "grade": true,
     "grade_id": "test_reorder_cols",
     "locked": true,
     "points": 0.25,
     "schema_version": 1,
     "solution": false
    }
   },
   "outputs": [],
   "source": [
    "# Tests for 1e\n",
    "\n",
    "assert list(df.columns) == ['id', 'age', 'steps', 'income']"
   ]
  },
  {
   "cell_type": "markdown",
   "metadata": {
    "deletable": false,
    "editable": false,
    "nbgrader": {
     "checksum": "448e3c750745651333eadab908f036fd",
     "grade": false,
     "grade_id": "cell-e062b643319a9bcc",
     "locked": true,
     "schema_version": 1,
     "solution": false
    }
   },
   "source": [
    "**Question 1f:** You may have noticed something strange: the merged `df` DataFrame has fewer rows than either of `df_steps` and `df_income`. Why did this happen?\n",
    "\n",
    "Please select the **one** correct explanation below and save your answer in the variable `q1f_answer`. For example, if you believe choice number 4 explains why `df` has fewer rows, set `q1f_answer = 4`.\n",
    "\n",
    "1. Some steps were recorded inaccurately in `df_steps`.\n",
    "2. Some incomes were recorded inaccurately in `df_income`.\n",
    "3. There are fewer rows in `df_steps` than in `df_income`.\n",
    "4. There are fewer columns in `df_steps` than in `df_income`.\n",
    "5. Some `id` values were repeated in `df_steps` and in `df_income`.\n",
    "6. Some `id` values in either `df_steps` and `df_income` were missing in the other DataFrame.\n",
    "\n",
    "You may use the cell below to run whatever code you want to check the statements above. Just make sure to set `q1f_answer` once you've selected a choice."
   ]
  },
  {
   "cell_type": "code",
   "execution_count": 13,
   "metadata": {
    "deletable": false,
    "nbgrader": {
     "checksum": "4fd5362a0236cb4eb6832ba55b0d0848",
     "grade": false,
     "grade_id": "df_fewer_rows",
     "locked": false,
     "schema_version": 1,
     "solution": true
    }
   },
   "outputs": [],
   "source": [
    "q1f_answer = 5"
   ]
  },
  {
   "cell_type": "code",
   "execution_count": 14,
   "metadata": {
    "deletable": false,
    "editable": false,
    "nbgrader": {
     "checksum": "9f422554d4adf4bc52687dfc0c909170",
     "grade": true,
     "grade_id": "test_df_fewer_rows",
     "locked": true,
     "points": 0.5,
     "schema_version": 1,
     "solution": false
    }
   },
   "outputs": [],
   "source": [
    "# Tests for 1f\n",
    "\n",
    "assert isinstance(q1f_answer, int)\n"
   ]
  },
  {
   "cell_type": "markdown",
   "metadata": {
    "deletable": false,
    "editable": false,
    "nbgrader": {
     "checksum": "ff1aa69e6295da6c6d6bc98110326d1a",
     "grade": false,
     "grade_id": "part2",
     "locked": true,
     "schema_version": 1,
     "solution": false
    }
   },
   "source": [
    "## Part 2 - Data Cleaning\n",
    "\n",
    "Before proceeding with analysis, we need to check our data for missing values.\n",
    "\n",
    "There are many reasons data might contain missing values. Here are two common ones:\n",
    "\n",
    "- **Nonresponse.** For example, people might have left a field blank when responding to a survey, or left the entire survey blank.\n",
    "- **Lost in entry.** Data might have been lost after initial recording. For example, a disk cleanup might accidentally wipe older entries of a database.\n",
    "\n",
    "In general, it is **not** appropriate to simply drop missing values from the dataset or pretend that if filled in they would not change your results. In 2016, many polls mistakenly predicted that Hillary Clinton would easily win the Presidential election by committing this error.\n",
    "\n",
    "In this particular dataset, however, the **missing values occur completely at random**. This criteria allows us to drop missing values without significantly affecting our conclusions."
   ]
  },
  {
   "cell_type": "markdown",
   "metadata": {
    "deletable": false,
    "editable": false,
    "nbgrader": {
     "checksum": "859853607b580645cbcd138aaa6112c7",
     "grade": false,
     "grade_id": "cell-b343173f5b8686ba",
     "locked": true,
     "schema_version": 1,
     "solution": false
    }
   },
   "source": [
    "**Question 2a:** How values are missing in the `income` column of `df`? Save this number into a variable called `n_nan`."
   ]
  },
  {
   "cell_type": "code",
   "execution_count": 15,
   "metadata": {
    "deletable": false,
    "nbgrader": {
     "checksum": "862eb2d421538f9715139f5f14f41d31",
     "grade": false,
     "grade_id": "check_n_nan",
     "locked": false,
     "schema_version": 1,
     "solution": true
    }
   },
   "outputs": [],
   "source": [
    "n_nan = sum(np.isnan(df['income']))\n",
    "\n",
    "#Counts only NaN values in column 'income' of the DataFrame \"df\".\n",
    "#print(\"NaN count of income column:\", n_nan)"
   ]
  },
  {
   "cell_type": "code",
   "execution_count": 16,
   "metadata": {
    "deletable": false,
    "editable": false,
    "nbgrader": {
     "checksum": "999527e58f2d367f39dde83c5272ad9c",
     "grade": true,
     "grade_id": "test_check_n_nan",
     "locked": true,
     "points": 0.25,
     "schema_version": 1,
     "solution": false
    }
   },
   "outputs": [],
   "source": [
    "# Tests for 2a\n",
    "\n",
    "assert(n_nan)\n"
   ]
  },
  {
   "cell_type": "markdown",
   "metadata": {
    "deletable": false,
    "editable": false,
    "nbgrader": {
     "checksum": "aef95cc8895baf28951a0f6cb3fdc62a",
     "grade": false,
     "grade_id": "cell-e81949ee49bed7aa",
     "locked": true,
     "schema_version": 1,
     "solution": false
    }
   },
   "source": [
    "**Question 2b:** Remove all rows from `df` that have missing values."
   ]
  },
  {
   "cell_type": "code",
   "execution_count": 17,
   "metadata": {
    "deletable": false,
    "nbgrader": {
     "checksum": "46b717ac26f7586d6d1262fea5f768db",
     "grade": false,
     "grade_id": "rm_nans",
     "locked": false,
     "schema_version": 1,
     "solution": true
    }
   },
   "outputs": [],
   "source": [
    "# Remove all rows from df that have missing data. In other words, remove all rows with NaN values.\n",
    "df = df.dropna()\n"
   ]
  },
  {
   "cell_type": "code",
   "execution_count": 18,
   "metadata": {
    "deletable": false,
    "editable": false,
    "nbgrader": {
     "checksum": "35ae0656db3719d5c37732b813297fda",
     "grade": true,
     "grade_id": "test_rm_nans",
     "locked": true,
     "points": 0.5,
     "schema_version": 1,
     "solution": false
    }
   },
   "outputs": [],
   "source": [
    "# Tests for 2b\n",
    "\n",
    "assert sum(np.isnan(df['income'])) == 0\n",
    "assert df.shape == (10201, 4)\n"
   ]
  },
  {
   "cell_type": "markdown",
   "metadata": {
    "deletable": false,
    "editable": false,
    "nbgrader": {
     "checksum": "14d203c7ffdfd647b2a6c322a3692bda",
     "grade": false,
     "grade_id": "cell-4c6b5c67cd60c837",
     "locked": true,
     "schema_version": 1,
     "solution": false
    }
   },
   "source": [
    "**Question 2c:** Note that we can now compute the average income. If your `df` variable contains the right values, `df['income'].mean()` should produce the value `25474.07`.\n",
    "\n",
    "Suppose that we didn't drop the missing incomes. What will running `df['income'].mean()` output? Use the variable `q2c_answer` to record which of the below statements you think is true. As usual, you can use the cell below to run any code you'd like in order to help you answer this question as long as you set `q2c_answer` once you've finished.\n",
    "\n",
    "1. No change; `df['income'].mean()` will ignore the missing values and output `25474.07`.\n",
    "2. `df['income'].mean()` will produce an error.\n",
    "3. `df['income'].mean()` will output `0`.\n",
    "4. `df['income'].mean()` will output `nan` (not a number).\n",
    "5. `df['income'].mean()` will fill in the missing values with the average income, then compute the average.\n",
    "5. `df['income'].mean()` will fill in the missing values with `0`, then compute the average."
   ]
  },
  {
   "cell_type": "code",
   "execution_count": 19,
   "metadata": {
    "deletable": false,
    "nbgrader": {
     "checksum": "6d375b8a73432a02b337ce04376f94e5",
     "grade": false,
     "grade_id": "mean_income",
     "locked": false,
     "schema_version": 1,
     "solution": true
    }
   },
   "outputs": [],
   "source": [
    "q2c_answer = 1"
   ]
  },
  {
   "cell_type": "code",
   "execution_count": 20,
   "metadata": {
    "deletable": false,
    "editable": false,
    "nbgrader": {
     "checksum": "d3bce71db855e6e5595fec35e16f9cf0",
     "grade": true,
     "grade_id": "test_mean_income",
     "locked": true,
     "points": 0.5,
     "schema_version": 1,
     "solution": false
    }
   },
   "outputs": [],
   "source": [
    "# Tests for 2c\n",
    "\n",
    "assert isinstance(q2c_answer, int)\n"
   ]
  },
  {
   "cell_type": "markdown",
   "metadata": {
    "deletable": false,
    "editable": false,
    "nbgrader": {
     "checksum": "e76a568cd0c6ffc79e5dc124cec7bd27",
     "grade": false,
     "grade_id": "cell-1a7dd25f17ac69a8",
     "locked": true,
     "schema_version": 1,
     "solution": false
    }
   },
   "source": [
    "**Question 2d:** Suppose that missing incomes did not occur at random, and that individuals with incomes below \\$10000 a year are less likely to report their incomes. If so, one of the statements is true. Record your choice in the variable `q2d_answer`.\n",
    "\n",
    "1. `df['income'].mean()` will likely output a value that is larger than the population's average income.\n",
    "2. `df['income'].mean()` will likely output a value that is smaller than the population's average income.\n",
    "3. `df['income'].mean()` will likely output a value that is the same as the population's average income\n",
    "4. `df['income'].mean()` will raise an error."
   ]
  },
  {
   "cell_type": "code",
   "execution_count": 21,
   "metadata": {
    "deletable": false,
    "nbgrader": {
     "checksum": "6aef9b3a3df384550102804bc381e65d",
     "grade": false,
     "grade_id": "income_biased",
     "locked": false,
     "schema_version": 1,
     "solution": true
    }
   },
   "outputs": [],
   "source": [
    "q2d_answer = 1"
   ]
  },
  {
   "cell_type": "code",
   "execution_count": 22,
   "metadata": {
    "deletable": false,
    "editable": false,
    "nbgrader": {
     "checksum": "5635a9d874f2243519b4e73816283538",
     "grade": true,
     "grade_id": "test_income_biased",
     "locked": true,
     "points": 0.5,
     "schema_version": 1,
     "solution": false
    }
   },
   "outputs": [],
   "source": [
    "# Tests for 2d\n",
    "\n",
    "assert isinstance(q2d_answer, int)\n"
   ]
  },
  {
   "cell_type": "markdown",
   "metadata": {
    "deletable": false,
    "editable": false,
    "nbgrader": {
     "checksum": "0f816b7be23468d6fac4d48ac25cffef",
     "grade": false,
     "grade_id": "cell-5d01b1034d49203e",
     "locked": true,
     "schema_version": 1,
     "solution": false
    }
   },
   "source": [
    "## Part 3: Data Visualization\n",
    "\n",
    "Although `pandas` only displays a few rows of a DataFrame at a time, we can use data visualizations to quickly determine the **distributions** of values within our data.\n",
    "\n",
    "`pandas` comes with some plotting capabilities built-in. We suggest taking a look at https://pandas.pydata.org/pandas-docs/stable/visualization.html for examples. Here's one example:\n",
    "\n",
    "Most plotting libraries in Python are built on top of a library called [Matplotlib](https://matplotlib.org/), including the plotting methods used in `pandas`. Although you won't need to know Matplotlib for this assignment, you will likely have to use it in future assignments and your final project, so keep the library in mind.\n",
    "\n",
    "Notes:\n",
    "\n",
    "- Everywhere that we ask you to create a plot, make sure to leave the `plt.gcf()` line at the end of the cell. Otherwise, you will lose points in the autograder.\n",
    "- For all your histograms, use **25 bins**."
   ]
  },
  {
   "cell_type": "markdown",
   "metadata": {},
   "source": [
    "**Question 3a:** Plot a histogram of the `age` column with 25 bins."
   ]
  },
  {
   "cell_type": "code",
   "execution_count": 23,
   "metadata": {
    "deletable": false,
    "nbgrader": {
     "checksum": "bb8fce6ef3babf1b49fa631893b60c34",
     "grade": false,
     "grade_id": "hist_age",
     "locked": false,
     "schema_version": 1,
     "solution": true
    }
   },
   "outputs": [
    {
     "data": {
      "image/png": "[encoded data removed]",
      "text/plain": [
       "<Figure size 432x288 with 1 Axes>"
      ]
     },
     "metadata": {},
     "output_type": "display_data"
    }
   ],
   "source": [
    "df.hist(column='age', bins=25)\n",
    "\n",
    "f1 = plt.gcf()"
   ]
  },
  {
   "cell_type": "code",
   "execution_count": 24,
   "metadata": {
    "deletable": false,
    "editable": false,
    "nbgrader": {
     "checksum": "ff430251c4a33b0f669098e0aab1a199",
     "grade": true,
     "grade_id": "test_hist_age",
     "locked": true,
     "points": 0.25,
     "schema_version": 1,
     "solution": false
    }
   },
   "outputs": [],
   "source": [
    "# Tests for 3a\n",
    "\n",
    "assert f1.gca().has_data()\n",
    "\n",
    "# If you fail this test, you didn't use 25 bins for your histogram.\n",
    "assert len(f1.gca().patches) == 25"
   ]
  },
  {
   "cell_type": "markdown",
   "metadata": {},
   "source": [
    "**Question 3b:** Plot a histogram of the `steps` column with 25 bins."
   ]
  },
  {
   "cell_type": "code",
   "execution_count": 25,
   "metadata": {
    "deletable": false,
    "nbgrader": {
     "checksum": "82614a5e31cef9725cb064de570fd629",
     "grade": false,
     "grade_id": "hist_steps",
     "locked": false,
     "schema_version": 1,
     "solution": true
    }
   },
   "outputs": [
    {
     "data": {
      "image/png": "[encoded data removed]",
      "text/plain": [
       "<Figure size 432x288 with 1 Axes>"
      ]
     },
     "metadata": {},
     "output_type": "display_data"
    }
   ],
   "source": [
    "df.hist(column='steps', bins=25)\n",
    "\n",
    "f2 = plt.gcf()"
   ]
  },
  {
   "cell_type": "code",
   "execution_count": 26,
   "metadata": {
    "deletable": false,
    "editable": false,
    "nbgrader": {
     "checksum": "9a31a432cbac65bb2c536e1c9561843d",
     "grade": true,
     "grade_id": "test_hist_steps",
     "locked": true,
     "points": 0.25,
     "schema_version": 1,
     "solution": false
    }
   },
   "outputs": [],
   "source": [
    "# Tests for 3b\n",
    "\n",
    "assert f2.gca().has_data()"
   ]
  },
  {
   "cell_type": "markdown",
   "metadata": {},
   "source": [
    "**Question 3c:** Plot a histogram of the `income` column with 25 bins."
   ]
  },
  {
   "cell_type": "code",
   "execution_count": 27,
   "metadata": {
    "deletable": false,
    "nbgrader": {
     "checksum": "bc6a5447b3944f6c8336170c3a490fbb",
     "grade": false,
     "grade_id": "hist_income",
     "locked": false,
     "schema_version": 1,
     "solution": true
    }
   },
   "outputs": [
    {
     "data": {
      "image/png": "[encoded data removed]",
      "text/plain": [
       "<Figure size 432x288 with 1 Axes>"
      ]
     },
     "metadata": {},
     "output_type": "display_data"
    }
   ],
   "source": [
    "df.hist(column='income', bins=25)\n",
    "\n",
    "f3 = plt.gcf()"
   ]
  },
  {
   "cell_type": "code",
   "execution_count": 28,
   "metadata": {
    "deletable": false,
    "editable": false,
    "nbgrader": {
     "checksum": "23bbd29aea96442ff7eac5d9a940525f",
     "grade": true,
     "grade_id": "test_hist_income",
     "locked": true,
     "points": 0.25,
     "schema_version": 1,
     "solution": false
    }
   },
   "outputs": [],
   "source": [
    "# Tests for 3c\n",
    "\n",
    "assert f3.gca().has_data()"
   ]
  },
  {
   "cell_type": "markdown",
   "metadata": {},
   "source": [
    "**Question 3d:** Plot the data using the `pandas` `scatter_matrix` function. Only plot the `age`, `steps`, and `income` columns."
   ]
  },
  {
   "cell_type": "code",
   "execution_count": 29,
   "metadata": {
    "deletable": false,
    "nbgrader": {
     "checksum": "e25abbd23ffad500ef88f73ca3e87925",
     "grade": false,
     "grade_id": "scatter_matrix",
     "locked": false,
     "schema_version": 1,
     "solution": true
    }
   },
   "outputs": [
    {
     "data": {
      "image/png": "[encoded data removed]",
      "text/plain": [
       "<Figure size 432x288 with 9 Axes>"
      ]
     },
     "metadata": {},
     "output_type": "display_data"
    }
   ],
   "source": [
    "pd.plotting.scatter_matrix(df[['age', 'steps', 'income']])\n",
    "\n",
    "f4 = plt.gcf()"
   ]
  },
  {
   "cell_type": "code",
   "execution_count": 30,
   "metadata": {
    "deletable": false,
    "editable": false,
    "nbgrader": {
     "checksum": "0cd0926f3e82eb46a21d35c2a708fb02",
     "grade": true,
     "grade_id": "test_scatter_matrix",
     "locked": true,
     "points": 0.25,
     "schema_version": 1,
     "solution": false
    }
   },
   "outputs": [],
   "source": [
    "# Tests for 3d\n",
    "\n",
    "assert f4.gca().has_data()"
   ]
  },
  {
   "cell_type": "markdown",
   "metadata": {},
   "source": [
    "## Part 4: Data Pre-Processing\n",
    "\n",
    "In the above sections, we performed basic data cleaning and visualization. \n",
    "\n",
    "In practice, these two components of an analysis pipeline are often combined into an iterative approach. We go back and forth between looking at the data, checking for issues, and cleaning the data. \n",
    "\n",
    "Let's continue with an iterative procedure of data cleaning and visualization, addressing some issues that we notice after visualizing the data."
   ]
  },
  {
   "cell_type": "markdown",
   "metadata": {},
   "source": [
    "**Question 4a:** In the visualization of the `steps` column, we notice a large number of `-1` values. Count how many rows in `df` have `-1` in their `steps` column. Store the result in the variable `n_neg`."
   ]
  },
  {
   "cell_type": "code",
   "execution_count": 31,
   "metadata": {
    "deletable": false,
    "nbgrader": {
     "checksum": "3300cadc31ddc567614642d0d0b117c8",
     "grade": false,
     "grade_id": "check_n_neg",
     "locked": false,
     "schema_version": 1,
     "solution": true
    }
   },
   "outputs": [],
   "source": [
    "n_neg = len(np.where(df['steps']<0)[0])"
   ]
  },
  {
   "cell_type": "code",
   "execution_count": 32,
   "metadata": {
    "deletable": false,
    "editable": false,
    "nbgrader": {
     "checksum": "76323d19b35984a6c1a40b560ca8d525",
     "grade": true,
     "grade_id": "test_check_n_neg",
     "locked": true,
     "points": 0.5,
     "schema_version": 1,
     "solution": false
    }
   },
   "outputs": [],
   "source": [
    "# Tests for 4a\n",
    "\n",
    "assert(n_neg)\n",
    "assert n_neg > 100\n"
   ]
  },
  {
   "cell_type": "markdown",
   "metadata": {},
   "source": [
    "**Question 4b:** Since it's impossible to walk a negative number of steps, we will treat the negative values as missing data. Drop the rows with negative steps from `df`. Your answer should modify `df` itself."
   ]
  },
  {
   "cell_type": "code",
   "execution_count": 33,
   "metadata": {
    "deletable": false,
    "nbgrader": {
     "checksum": "738d66e0aa86ca0ddcfcd55898d0ea59",
     "grade": false,
     "grade_id": "rm_neg",
     "locked": false,
     "schema_version": 1,
     "solution": true
    }
   },
   "outputs": [],
   "source": [
    "df = df.replace(-1, pd.np.nan).dropna()"
   ]
  },
  {
   "cell_type": "code",
   "execution_count": 34,
   "metadata": {
    "deletable": false,
    "editable": false,
    "nbgrader": {
     "checksum": "574382e27cbcfca07517c1643a35f297",
     "grade": true,
     "grade_id": "test_rm_neg",
     "locked": true,
     "points": 0.25,
     "schema_version": 1,
     "solution": false
    }
   },
   "outputs": [],
   "source": [
    "# Tests for 4b\n",
    "\n",
    "assert sum(df['steps'] == -1) == 0\n"
   ]
  },
  {
   "cell_type": "markdown",
   "metadata": {
    "deletable": false,
    "editable": false,
    "nbgrader": {
     "checksum": "10c1b8bb25419014f6bcf4586679c98c",
     "grade": false,
     "grade_id": "cell-0c78f9d038aa372b",
     "locked": true,
     "schema_version": 1,
     "solution": false
    }
   },
   "source": [
    "You may have noticed that the values in `income` are not normally distributed which can hurt prediction ability in some scenarios. To address this, we will perform a log transformation on the `income` values.\n",
    "\n",
    "First though, we will have to deal with any income values that are 0. Note that these values are not impossible values — they may, for example, represent people who are unemployed. \n",
    "\n",
    "**Question 4c:** Add a new column to `df` called `income10`. It should contain the same values as `income` with all `0` values replaced with `1`."
   ]
  },
  {
   "cell_type": "code",
   "execution_count": 35,
   "metadata": {
    "deletable": false,
    "nbgrader": {
     "checksum": "96f66286cdd706136bfa2aefb2f25e28",
     "grade": false,
     "grade_id": "recoded_zero",
     "locked": false,
     "schema_version": 1,
     "solution": true
    }
   },
   "outputs": [],
   "source": [
    "df['income10'] = df['income']\n",
    "df['income10'] = df['income10'].replace(0, 1)"
   ]
  },
  {
   "cell_type": "code",
   "execution_count": 36,
   "metadata": {
    "deletable": false,
    "editable": false,
    "nbgrader": {
     "checksum": "1a826065066044365d0fc62fc0683198",
     "grade": true,
     "grade_id": "test_recoded_zero",
     "locked": true,
     "points": 0.25,
     "schema_version": 1,
     "solution": false
    }
   },
   "outputs": [],
   "source": [
    "# Tests for 4c\n",
    "\n",
    "assert list(df.columns) == ['id', 'age', 'steps', 'income', 'income10']\n",
    "assert not any(df['income10'] == 0)\n"
   ]
  },
  {
   "cell_type": "markdown",
   "metadata": {},
   "source": [
    "**Question 4d:** Now, transform the `income10` column using a log-base-10 transform. That is, replace each value in `income10` with the $ log_{10} $ of that value."
   ]
  },
  {
   "cell_type": "code",
   "execution_count": 37,
   "metadata": {
    "deletable": false,
    "nbgrader": {
     "checksum": "79276aead1a0ef93947ceb8284fc563e",
     "grade": false,
     "grade_id": "log",
     "locked": false,
     "schema_version": 1,
     "solution": true
    }
   },
   "outputs": [],
   "source": [
    "df['income10'] = df['income10'].transform(lambda x: np.log10(x))"
   ]
  },
  {
   "cell_type": "code",
   "execution_count": 38,
   "metadata": {
    "deletable": false,
    "editable": false,
    "nbgrader": {
     "checksum": "7a26314869b67405985d662e1b919cba",
     "grade": true,
     "grade_id": "test_log",
     "locked": true,
     "points": 0.25,
     "schema_version": 1,
     "solution": false
    }
   },
   "outputs": [],
   "source": [
    "# Tests for 4d\n",
    "\n",
    "assert np.isclose(min(df['income10']), 0.0, 0.001)\n",
    "assert np.isclose(max(df['income10']), 5.867, 0.001)"
   ]
  },
  {
   "cell_type": "markdown",
   "metadata": {},
   "source": [
    "**Question 4e:** Now, make a histogram for `income10` data after the data transformation. Again, use 25 bins."
   ]
  },
  {
   "cell_type": "code",
   "execution_count": 39,
   "metadata": {
    "deletable": false,
    "nbgrader": {
     "checksum": "25dfdf6faff59ba17d9a48c1bd37cdf7",
     "grade": false,
     "grade_id": "replot_log",
     "locked": false,
     "schema_version": 1,
     "solution": true
    }
   },
   "outputs": [
    {
     "data": {
      "image/png": "[encoded data removed]",
      "text/plain": [
       "<Figure size 432x288 with 1 Axes>"
      ]
     },
     "metadata": {},
     "output_type": "display_data"
    }
   ],
   "source": [
    "df.hist(column ='income10', bins=25)\n",
    "\n",
    "f4 = plt.gcf()"
   ]
  },
  {
   "cell_type": "code",
   "execution_count": 40,
   "metadata": {
    "deletable": false,
    "editable": false,
    "nbgrader": {
     "checksum": "ca07e51b4d99c92d7a6050f52380189a",
     "grade": true,
     "grade_id": "test_replot_hist",
     "locked": true,
     "points": 0.25,
     "schema_version": 1,
     "solution": false
    }
   },
   "outputs": [],
   "source": [
    "# Tests for 4e\n",
    "\n",
    "assert f4.gca().has_data()\n",
    "\n",
    "# If you fail this test, you didn't use 25 bins for your histogram.\n",
    "assert len(f4.gca().patches) == 25"
   ]
  },
  {
   "cell_type": "markdown",
   "metadata": {},
   "source": [
    "**Question 4f:** We might also have certain regulations or restrictions that we need to follow about the data. Here, we will only analyze adults. Remove all rows from `df` where age is less than 18."
   ]
  },
  {
   "cell_type": "code",
   "execution_count": 42,
   "metadata": {
    "deletable": false,
    "nbgrader": {
     "checksum": "8b589bb70d291baf871ac583ac7778c5",
     "grade": false,
     "grade_id": "rm_young",
     "locked": false,
     "schema_version": 1,
     "solution": true
    }
   },
   "outputs": [],
   "source": [
    "df = df[df['age'] > 18]"
   ]
  },
  {
   "cell_type": "code",
   "execution_count": 43,
   "metadata": {
    "deletable": false,
    "editable": false,
    "nbgrader": {
     "checksum": "e5e1fcc6921d39488b6a3289145952c8",
     "grade": true,
     "grade_id": "test_rm_young",
     "locked": true,
     "points": 0.25,
     "schema_version": 1,
     "solution": false
    }
   },
   "outputs": [],
   "source": [
    "# Tests for 4f\n",
    "\n",
    "assert min(df['age']) >= 18\n"
   ]
  },
  {
   "cell_type": "markdown",
   "metadata": {
    "deletable": false,
    "editable": false,
    "nbgrader": {
     "checksum": "f9449b02b2aea111573e9c3ec1e958c5",
     "grade": false,
     "grade_id": "part3",
     "locked": true,
     "schema_version": 1,
     "solution": false
    }
   },
   "source": [
    "## Part 5 - Basic Analyses\n",
    "\n",
    "Now that we have wrangled and cleaned our data, we can start doing some simple analyses. \n",
    "\n",
    "Here we will explore some basic descriptive summaries of our data, look into the inter-relations (correlations) between variables, and ask some simple questions about potentially interesting subsets of our data. "
   ]
  },
  {
   "cell_type": "markdown",
   "metadata": {},
   "source": [
    "**Question 5a:** Use the `describe` `pandas` method to check a descriptive summary of the data. Save the DataFrame generated by `describe` to a new variable called `desc`."
   ]
  },
  {
   "cell_type": "code",
   "execution_count": 45,
   "metadata": {
    "deletable": false,
    "nbgrader": {
     "checksum": "acf71fb22f4e06d6e7c972626afaf7b4",
     "grade": false,
     "grade_id": "cell-ae86332aaa14d006",
     "locked": false,
     "schema_version": 1,
     "solution": true
    }
   },
   "outputs": [
    {
     "data": {
      "text/html": [
       "<div>\n",
       "<style scoped>\n",
       "    .dataframe tbody tr th:only-of-type {\n",
       "        vertical-align: middle;\n",
       "    }\n",
       "\n",
       "    .dataframe tbody tr th {\n",
       "        vertical-align: top;\n",
       "    }\n",
       "\n",
       "    .dataframe thead th {\n",
       "        text-align: right;\n",
       "    }\n",
       "</style>\n",
       "<table border=\"1\" class=\"dataframe\">\n",
       "  <thead>\n",
       "    <tr style=\"text-align: right;\">\n",
       "      <th></th>\n",
       "      <th>id</th>\n",
       "      <th>age</th>\n",
       "      <th>steps</th>\n",
       "      <th>income</th>\n",
       "      <th>income10</th>\n",
       "    </tr>\n",
       "  </thead>\n",
       "  <tbody>\n",
       "    <tr>\n",
       "      <th>count</th>\n",
       "      <td>9033.00</td>\n",
       "      <td>9033.00</td>\n",
       "      <td>9033.00</td>\n",
       "      <td>9033.00</td>\n",
       "      <td>9033.00</td>\n",
       "    </tr>\n",
       "    <tr>\n",
       "      <th>mean</th>\n",
       "      <td>49730.47</td>\n",
       "      <td>40.63</td>\n",
       "      <td>7505.48</td>\n",
       "      <td>25590.48</td>\n",
       "      <td>3.84</td>\n",
       "    </tr>\n",
       "    <tr>\n",
       "      <th>std</th>\n",
       "      <td>28823.67</td>\n",
       "      <td>8.43</td>\n",
       "      <td>1508.59</td>\n",
       "      <td>33489.68</td>\n",
       "      <td>1.31</td>\n",
       "    </tr>\n",
       "    <tr>\n",
       "      <th>...</th>\n",
       "      <td>...</td>\n",
       "      <td>...</td>\n",
       "      <td>...</td>\n",
       "      <td>...</td>\n",
       "      <td>...</td>\n",
       "    </tr>\n",
       "    <tr>\n",
       "      <th>50%</th>\n",
       "      <td>49638.00</td>\n",
       "      <td>41.00</td>\n",
       "      <td>7491.00</td>\n",
       "      <td>15621.54</td>\n",
       "      <td>4.19</td>\n",
       "    </tr>\n",
       "    <tr>\n",
       "      <th>75%</th>\n",
       "      <td>74839.00</td>\n",
       "      <td>46.00</td>\n",
       "      <td>8530.00</td>\n",
       "      <td>31492.20</td>\n",
       "      <td>4.50</td>\n",
       "    </tr>\n",
       "    <tr>\n",
       "      <th>max</th>\n",
       "      <td>99993.00</td>\n",
       "      <td>74.00</td>\n",
       "      <td>13093.00</td>\n",
       "      <td>736621.28</td>\n",
       "      <td>5.87</td>\n",
       "    </tr>\n",
       "  </tbody>\n",
       "</table>\n",
       "<p>8 rows × 5 columns</p>\n",
       "</div>"
      ],
      "text/plain": [
       "             id      age     steps     income  income10\n",
       "count   9033.00  9033.00   9033.00    9033.00   9033.00\n",
       "mean   49730.47    40.63   7505.48   25590.48      3.84\n",
       "std    28823.67     8.43   1508.59   33489.68      1.31\n",
       "...         ...      ...       ...        ...       ...\n",
       "50%    49638.00    41.00   7491.00   15621.54      4.19\n",
       "75%    74839.00    46.00   8530.00   31492.20      4.50\n",
       "max    99993.00    74.00  13093.00  736621.28      5.87\n",
       "\n",
       "[8 rows x 5 columns]"
      ]
     },
     "execution_count": 45,
     "metadata": {},
     "output_type": "execute_result"
    }
   ],
   "source": [
    "desc = df.describe()"
   ]
  },
  {
   "cell_type": "code",
   "execution_count": 46,
   "metadata": {
    "deletable": false,
    "editable": false,
    "nbgrader": {
     "checksum": "815a6811f9a47d68bd936d23e8ea237e",
     "grade": true,
     "grade_id": "cell-ff715fe5f2413f68",
     "locked": true,
     "points": 0.25,
     "schema_version": 1,
     "solution": false
    }
   },
   "outputs": [],
   "source": [
    "# Tests for 5a\n",
    "\n",
    "assert isinstance(desc, pd.DataFrame)"
   ]
  },
  {
   "cell_type": "markdown",
   "metadata": {},
   "source": [
    "**Question 5b:** Calculate the pairwise correlations between all variables.\n",
    "\n",
    "Note: do this with a `pandas` method. Keep all columns (including ID). Assign the result (which should be a DataFrame) to a variable called `corrs`."
   ]
  },
  {
   "cell_type": "code",
   "execution_count": 50,
   "metadata": {
    "deletable": false,
    "nbgrader": {
     "checksum": "7da1586eb85496f96f780a16300d7346",
     "grade": false,
     "grade_id": "calc_corrs",
     "locked": false,
     "schema_version": 1,
     "solution": true
    }
   },
   "outputs": [
    {
     "data": {
      "text/html": [
       "<div>\n",
       "<style scoped>\n",
       "    .dataframe tbody tr th:only-of-type {\n",
       "        vertical-align: middle;\n",
       "    }\n",
       "\n",
       "    .dataframe tbody tr th {\n",
       "        vertical-align: top;\n",
       "    }\n",
       "\n",
       "    .dataframe thead th {\n",
       "        text-align: right;\n",
       "    }\n",
       "</style>\n",
       "<table border=\"1\" class=\"dataframe\">\n",
       "  <thead>\n",
       "    <tr style=\"text-align: right;\">\n",
       "      <th></th>\n",
       "      <th>id</th>\n",
       "      <th>age</th>\n",
       "      <th>steps</th>\n",
       "      <th>income</th>\n",
       "      <th>income10</th>\n",
       "    </tr>\n",
       "  </thead>\n",
       "  <tbody>\n",
       "    <tr>\n",
       "      <th>id</th>\n",
       "      <td>1.00e+00</td>\n",
       "      <td>-5.57e-03</td>\n",
       "      <td>1.57e-03</td>\n",
       "      <td>-0.02</td>\n",
       "      <td>-8.60e-03</td>\n",
       "    </tr>\n",
       "    <tr>\n",
       "      <th>age</th>\n",
       "      <td>-5.57e-03</td>\n",
       "      <td>1.00e+00</td>\n",
       "      <td>-2.80e-01</td>\n",
       "      <td>0.27</td>\n",
       "      <td>1.00e-01</td>\n",
       "    </tr>\n",
       "    <tr>\n",
       "      <th>steps</th>\n",
       "      <td>1.57e-03</td>\n",
       "      <td>-2.80e-01</td>\n",
       "      <td>1.00e+00</td>\n",
       "      <td>0.05</td>\n",
       "      <td>2.56e-02</td>\n",
       "    </tr>\n",
       "    <tr>\n",
       "      <th>income</th>\n",
       "      <td>-2.46e-02</td>\n",
       "      <td>2.72e-01</td>\n",
       "      <td>4.81e-02</td>\n",
       "      <td>1.00</td>\n",
       "      <td>4.69e-01</td>\n",
       "    </tr>\n",
       "    <tr>\n",
       "      <th>income10</th>\n",
       "      <td>-8.60e-03</td>\n",
       "      <td>1.00e-01</td>\n",
       "      <td>2.56e-02</td>\n",
       "      <td>0.47</td>\n",
       "      <td>1.00e+00</td>\n",
       "    </tr>\n",
       "  </tbody>\n",
       "</table>\n",
       "</div>"
      ],
      "text/plain": [
       "                id       age     steps  income  income10\n",
       "id        1.00e+00 -5.57e-03  1.57e-03   -0.02 -8.60e-03\n",
       "age      -5.57e-03  1.00e+00 -2.80e-01    0.27  1.00e-01\n",
       "steps     1.57e-03 -2.80e-01  1.00e+00    0.05  2.56e-02\n",
       "income   -2.46e-02  2.72e-01  4.81e-02    1.00  4.69e-01\n",
       "income10 -8.60e-03  1.00e-01  2.56e-02    0.47  1.00e+00"
      ]
     },
     "execution_count": 50,
     "metadata": {},
     "output_type": "execute_result"
    }
   ],
   "source": [
    "corrs = df.corr()\n",
    "corrs"
   ]
  },
  {
   "cell_type": "code",
   "execution_count": 49,
   "metadata": {
    "deletable": false,
    "editable": false,
    "nbgrader": {
     "checksum": "7f604b3c659cccdb712a64b7b7438b69",
     "grade": true,
     "grade_id": "test_calc_corrs",
     "locked": true,
     "points": 0.25,
     "schema_version": 1,
     "solution": false
    }
   },
   "outputs": [],
   "source": [
    "# Tests for 5b\n",
    "\n",
    "assert isinstance(corrs, pd.DataFrame)\n",
    "assert corrs.shape == (5, 5)"
   ]
  },
  {
   "cell_type": "markdown",
   "metadata": {},
   "source": [
    "**Question 5c:** Answer the following questions by setting your answer variables to either `'age'`, `'steps'`, or `'income'`.\n",
    "\n",
    "- Which variable is most correlated with age (aside from `age` itself)? Record your answer in a variable called `age_corr`. \n",
    "- Which variable is most correlated with income (aside from `income` and `income10`)? Record your answer in a variable called `inc_corr`."
   ]
  },
  {
   "cell_type": "code",
   "execution_count": 51,
   "metadata": {
    "deletable": false,
    "nbgrader": {
     "checksum": "507c3a9894abf6f9003f553d43bceffb",
     "grade": false,
     "grade_id": "corrs",
     "locked": false,
     "schema_version": 1,
     "solution": true
    }
   },
   "outputs": [],
   "source": [
    "age_corr = 'income'\n",
    "inc_corr = 'age'"
   ]
  },
  {
   "cell_type": "code",
   "execution_count": 52,
   "metadata": {
    "deletable": false,
    "editable": false,
    "nbgrader": {
     "checksum": "df3a387ea49aee76528a660ac31d0838",
     "grade": true,
     "grade_id": "test_corrs",
     "locked": true,
     "points": 0.5,
     "schema_version": 1,
     "solution": false
    }
   },
   "outputs": [],
   "source": [
    "# Tests for 5c\n",
    "\n",
    "assert age_corr\n",
    "assert inc_corr\n",
    "assert age_corr in {'steps', 'age', 'income'}\n",
    "assert inc_corr in {'steps', 'age', 'income'}\n"
   ]
  },
  {
   "cell_type": "markdown",
   "metadata": {},
   "source": [
    "**Question 5d:** How many steps would you have to walk to be in the top 10% of walkers? Save your answer as a variable called `top_walker`.\n",
    "\n",
    "Hint: check out the `quantile` method."
   ]
  },
  {
   "cell_type": "code",
   "execution_count": 56,
   "metadata": {
    "deletable": false,
    "nbgrader": {
     "checksum": "7bfe7070156035fec1de3fccbcf424d5",
     "grade": false,
     "grade_id": "top_walkers",
     "locked": false,
     "schema_version": 1,
     "solution": true
    }
   },
   "outputs": [],
   "source": [
    "top_walker = df['steps'].quantile(.9)"
   ]
  },
  {
   "cell_type": "code",
   "execution_count": 55,
   "metadata": {
    "deletable": false,
    "editable": false,
    "nbgrader": {
     "checksum": "9162a163e027056627da18c42229ad2d",
     "grade": true,
     "grade_id": "test_top_walkers",
     "locked": true,
     "points": 0.25,
     "schema_version": 1,
     "solution": false
    }
   },
   "outputs": [],
   "source": [
    "# Tests for 5d\n",
    "\n",
    "assert top_walker\n",
    "assert isinstance(top_walker, float)\n"
   ]
  },
  {
   "cell_type": "markdown",
   "metadata": {},
   "source": [
    "**Question 5e:** What is the average income for people over the age of 45? Save your response in a variable called `old_income`.\n",
    "\n",
    "Note: We're asking for the actual income, not the log-10 of income."
   ]
  },
  {
   "cell_type": "code",
   "execution_count": 59,
   "metadata": {
    "deletable": false,
    "nbgrader": {
     "checksum": "723e1b5a9a73d3fd38eb7b3502d31526",
     "grade": false,
     "grade_id": "old_income",
     "locked": false,
     "schema_version": 1,
     "solution": true
    }
   },
   "outputs": [],
   "source": [
    "old_income = df[df['age']>45]['income'].quantile(.5)"
   ]
  },
  {
   "cell_type": "code",
   "execution_count": null,
   "metadata": {
    "deletable": false,
    "editable": false,
    "nbgrader": {
     "checksum": "567ff881ab3536b7b6c06c5c7e2f588a",
     "grade": true,
     "grade_id": "test_old_income",
     "locked": true,
     "points": 0.25,
     "schema_version": 1,
     "solution": false
    }
   },
   "outputs": [],
   "source": [
    "# Tests for 5e\n",
    "assert old_income\n",
    "assert old_income > 5\n"
   ]
  },
  {
   "cell_type": "markdown",
   "metadata": {
    "deletable": false,
    "editable": false,
    "nbgrader": {
     "checksum": "3b77cad6f3d1061e9b2c1f71914d3832",
     "grade": false,
     "grade_id": "part4",
     "locked": true,
     "schema_version": 1,
     "solution": false
    }
   },
   "source": [
    "# Part 6 - Predictions\n",
    "\n",
    "A frequent goal of data analysis is to understand so that we can make predictions about future or unseen data points. \n",
    "\n",
    "Here we will explore some basic predictions, looking into whether we might be able to predict income from our other variables.\n",
    "\n",
    "Note: You will use the `np.polyfit` function from NumPy as we did in [Tutorials/02-DataAnalysis](https://nbviewer.jupyter.org/github/COGS108/Tutorials/blob/master/02-DataAnalysis.ipynb).\n"
   ]
  },
  {
   "cell_type": "markdown",
   "metadata": {},
   "source": [
    "**Question 6a:** Use polyfit to fit a 1-degree linear model, predicting income from age. Call the output parameters `a1` and `b1`."
   ]
  },
  {
   "cell_type": "code",
   "execution_count": 62,
   "metadata": {
    "deletable": false,
    "nbgrader": {
     "checksum": "b9b55307d9da264f104b8b71e96bf354",
     "grade": false,
     "grade_id": "model_1",
     "locked": false,
     "schema_version": 1,
     "solution": true
    }
   },
   "outputs": [
    {
     "data": {
      "text/plain": [
       "(1079.3082714152856, -18264.583433038646)"
      ]
     },
     "execution_count": 62,
     "metadata": {},
     "output_type": "execute_result"
    }
   ],
   "source": [
    "a1, b1 = np.polyfit(df['age'], df['income'], 1)"
   ]
  },
  {
   "cell_type": "code",
   "execution_count": 63,
   "metadata": {
    "deletable": false,
    "editable": false,
    "nbgrader": {
     "checksum": "ec81a30009edafeb1b6e9858ff36471a",
     "grade": true,
     "grade_id": "test_model_1",
     "locked": true,
     "points": 0.5,
     "schema_version": 1,
     "solution": false
    }
   },
   "outputs": [],
   "source": [
    "# Tests for 6a\n",
    "\n",
    "assert(a1)\n",
    "assert(b1)\n",
    "\n",
    "# If you fail these tests, your parameter values are quite far from what they\n",
    "# should be.\n",
    "assert abs(a1) > 100\n",
    "assert abs(b1) > 100\n"
   ]
  },
  {
   "cell_type": "markdown",
   "metadata": {},
   "source": [
    "**Question 6b:** Use the model parameters from 6a to predict the income of a 75-year-old. Call your prediction `pred_75`."
   ]
  },
  {
   "cell_type": "code",
   "execution_count": 66,
   "metadata": {
    "deletable": false,
    "nbgrader": {
     "checksum": "c7f5556203c6f37a898b530a8e54130e",
     "grade": false,
     "grade_id": "pred_1",
     "locked": false,
     "schema_version": 1,
     "solution": true
    }
   },
   "outputs": [],
   "source": [
    "pred_75 = a1 * 75 + b1"
   ]
  },
  {
   "cell_type": "code",
   "execution_count": 67,
   "metadata": {
    "deletable": false,
    "editable": false,
    "nbgrader": {
     "checksum": "0762a7a88401852c4048483cc021e77d",
     "grade": true,
     "grade_id": "test_pred_1",
     "locked": true,
     "points": 0.5,
     "schema_version": 1,
     "solution": false
    }
   },
   "outputs": [],
   "source": [
    "# Tests for 6b\n",
    "\n",
    "assert(pred_75)\n"
   ]
  },
  {
   "cell_type": "markdown",
   "metadata": {},
   "source": [
    "**Question 6c:** Use polyfit once more to fit a 1-degree linear model, predicting income from steps. Call the output parameters `a2` and `b2`."
   ]
  },
  {
   "cell_type": "code",
   "execution_count": 70,
   "metadata": {
    "deletable": false,
    "nbgrader": {
     "checksum": "c42d681f43bc8e7ea2e33dbf659d3edb",
     "grade": false,
     "grade_id": "model_2",
     "locked": false,
     "schema_version": 1,
     "solution": true
    }
   },
   "outputs": [],
   "source": [
    "a2, b2 = np.polyfit(df['steps'], df['income'], 1)"
   ]
  },
  {
   "cell_type": "code",
   "execution_count": 71,
   "metadata": {
    "deletable": false,
    "editable": false,
    "nbgrader": {
     "checksum": "dfd53d461aa216841003a71bcbf33c9d",
     "grade": true,
     "grade_id": "test_model_2",
     "locked": true,
     "points": 0.25,
     "schema_version": 1,
     "solution": false
    }
   },
   "outputs": [],
   "source": [
    "# Tests for 6c\n",
    "\n",
    "assert(a2)\n",
    "assert(b2)\n",
    "\n",
    "# If you fail these tests, your parameter values are quite far from what they\n",
    "# should be.\n",
    "assert abs(a2) < 100\n",
    "assert abs(b2) > 100\n"
   ]
  },
  {
   "cell_type": "markdown",
   "metadata": {},
   "source": [
    "**Question 6d:** Predict the income of someone who took 10,000 steps. Call your prediction `pred_10k`."
   ]
  },
  {
   "cell_type": "code",
   "execution_count": 72,
   "metadata": {
    "deletable": false,
    "nbgrader": {
     "checksum": "5b9950130ca295b597ac005c95bd15d3",
     "grade": false,
     "grade_id": "pred_2",
     "locked": false,
     "schema_version": 1,
     "solution": true
    }
   },
   "outputs": [],
   "source": [
    "pred_10k = a2 * 10000 + b2"
   ]
  },
  {
   "cell_type": "code",
   "execution_count": 73,
   "metadata": {
    "deletable": false,
    "editable": false,
    "nbgrader": {
     "checksum": "bda87c3966221654a9d6036a70846ca0",
     "grade": true,
     "grade_id": "test_pred_2",
     "locked": true,
     "points": 0.25,
     "schema_version": 1,
     "solution": false
    }
   },
   "outputs": [],
   "source": [
    "# Test for 6d\n",
    "\n",
    "assert(pred_10k)\n"
   ]
  },
  {
   "cell_type": "markdown",
   "metadata": {},
   "source": [
    "**Question 6e:** To better understand a model, we can visualize its predictions. Use your first model to predict income from each integer age in between 18 and 80. Your predictions should be stored in a numpy array of floats called `pred_age`."
   ]
  },
  {
   "cell_type": "code",
   "execution_count": 75,
   "metadata": {
    "deletable": false,
    "nbgrader": {
     "checksum": "30ccac0d4ae8e4b117f2fe8706652456",
     "grade": false,
     "grade_id": "pred_age",
     "locked": false,
     "schema_version": 1,
     "solution": true
    }
   },
   "outputs": [
    {
     "data": {
      "text/plain": [
       "array([ 1162.96545244,  2242.27372385,  3321.58199527,  4400.89026668,\n",
       "        5480.1985381 ,  6559.50680951,  7638.81508093,  8718.12335234,\n",
       "        9797.43162376, 10876.73989517, 11956.04816659, 13035.356438  ,\n",
       "       14114.66470942, 15193.97298084, 16273.28125225, 17352.58952367,\n",
       "       18431.89779508, 19511.2060665 , 20590.51433791, 21669.82260933,\n",
       "       22749.13088074, 23828.43915216, 24907.74742357, 25987.05569499,\n",
       "       27066.3639664 , 28145.67223782, 29224.98050923, 30304.28878065,\n",
       "       31383.59705206, 32462.90532348, 33542.2135949 , 34621.52186631,\n",
       "       35700.83013773, 36780.13840914, 37859.44668056, 38938.75495197,\n",
       "       40018.06322339, 41097.3714948 , 42176.67976622, 43255.98803763,\n",
       "       44335.29630905, 45414.60458046, 46493.91285188, 47573.22112329,\n",
       "       48652.52939471, 49731.83766612, 50811.14593754, 51890.45420895,\n",
       "       52969.76248037, 54049.07075179, 55128.3790232 , 56207.68729462,\n",
       "       57286.99556603, 58366.30383745, 59445.61210886, 60524.92038028,\n",
       "       61604.22865169, 62683.53692311, 63762.84519452, 64842.15346594,\n",
       "       65921.46173735, 67000.77000877, 68080.07828018])"
      ]
     },
     "execution_count": 75,
     "metadata": {},
     "output_type": "execute_result"
    }
   ],
   "source": [
    "pred_age = np.empty(0)\n",
    "for i in range(18, 81):\n",
    "    pred_age = np.append(pred_age, i)\n",
    "    \n",
    "pred_age * a1 + b1"
   ]
  },
  {
   "cell_type": "code",
   "execution_count": 76,
   "metadata": {
    "deletable": false,
    "editable": false,
    "nbgrader": {
     "checksum": "e83246304e5462e93847479cfd23b788",
     "grade": true,
     "grade_id": "test_pred_age",
     "locked": true,
     "points": 0.5,
     "schema_version": 1,
     "solution": false
    }
   },
   "outputs": [],
   "source": [
    "assert isinstance(pred_age, np.ndarray)\n",
    "assert len(pred_age) == 63\n",
    "\n",
    "# Your array should contain decimals, not integers\n",
    "assert isinstance(pred_age[0], float)\n"
   ]
  },
  {
   "cell_type": "markdown",
   "metadata": {},
   "source": [
    "**Question 6f:** Make a scatter plot with income on the y-axis and age on the x-axis. Then, draw your predictions as a red line on top of the scatter plot. Your plot should look like this:\n",
    "\n",
    "![](income_steps_pred.png)"
   ]
  },
  {
   "cell_type": "code",
   "execution_count": null,
   "metadata": {
    "deletable": false,
    "nbgrader": {
     "checksum": "761e264f41b554842a0753ce8fafc70a",
     "grade": false,
     "grade_id": "pred_age_plot",
     "locked": false,
     "schema_version": 1,
     "solution": true
    }
   },
   "outputs": [],
   "source": [
    "\n",
    "\n",
    "f5 = plt.gcf()"
   ]
  },
  {
   "cell_type": "code",
   "execution_count": null,
   "metadata": {
    "deletable": false,
    "editable": false,
    "nbgrader": {
     "checksum": "7be26b91ef977965c30d9769635c2d91",
     "grade": true,
     "grade_id": "test_pred_age_plot",
     "locked": true,
     "points": 0.5,
     "schema_version": 1,
     "solution": false
    }
   },
   "outputs": [],
   "source": [
    "assert f5.gca().has_data()"
   ]
  },
  {
   "cell_type": "markdown",
   "metadata": {},
   "source": [
    "**Question 6g:** Now, let's do the same for the model that uses steps.\n",
    "\n",
    "Use your second model to predict income from each multiple of 100 steps in between 2000 and 13000. Your predictions should be stored in a numpy array called `pred_steps`."
   ]
  },
  {
   "cell_type": "code",
   "execution_count": null,
   "metadata": {
    "deletable": false,
    "nbgrader": {
     "checksum": "90a5fe5b6b84c0ba8a979fac018835d2",
     "grade": false,
     "grade_id": "pred_steps",
     "locked": false,
     "schema_version": 1,
     "solution": true
    }
   },
   "outputs": [],
   "source": [
    "# YOUR CODE HERE\n",
    "raise NotImplementedError()"
   ]
  },
  {
   "cell_type": "code",
   "execution_count": null,
   "metadata": {
    "deletable": false,
    "editable": false,
    "nbgrader": {
     "checksum": "eb8ace87be1b7331bc45cb7f931dcc3c",
     "grade": true,
     "grade_id": "test_pred_steps",
     "locked": true,
     "points": 0.5,
     "schema_version": 1,
     "solution": false
    }
   },
   "outputs": [],
   "source": [
    "assert isinstance(pred_steps, np.ndarray)\n",
    "assert len(pred_steps) == 111\n",
    "# Your array should contain decimals, not integers\n",
    "assert isinstance(pred_steps[0], float)\n"
   ]
  },
  {
   "cell_type": "markdown",
   "metadata": {},
   "source": [
    "**Question 6h:** Make a scatter plot with income on the y-axis and steps on the x-axis. Then, draw your predictions as a red line on top of the scatter plot. Your plot should look like this:\n",
    "\n",
    "![](income_age_pred.png)"
   ]
  },
  {
   "cell_type": "code",
   "execution_count": null,
   "metadata": {
    "deletable": false,
    "nbgrader": {
     "checksum": "745627d3e8dcd9db622dad1a3c7dfd34",
     "grade": false,
     "grade_id": "pred_steps_plot",
     "locked": false,
     "schema_version": 1,
     "solution": true
    }
   },
   "outputs": [],
   "source": [
    "# YOUR CODE HERE\n",
    "raise NotImplementedError()\n",
    "\n",
    "f6 = plt.gcf()"
   ]
  },
  {
   "cell_type": "code",
   "execution_count": null,
   "metadata": {
    "deletable": false,
    "editable": false,
    "nbgrader": {
     "checksum": "f961008588d11d65b558ef52ca59d198",
     "grade": true,
     "grade_id": "test_pred_steps_plot",
     "locked": true,
     "points": 0.5,
     "schema_version": 1,
     "solution": false
    }
   },
   "outputs": [],
   "source": [
    "assert f6.gca().has_data()"
   ]
  },
  {
   "cell_type": "markdown",
   "metadata": {},
   "source": [
    "**Question 6i:** Notice that both these models perform poorly on this data. For this particular dataset, neither age nor steps seem to have a linear relationship with income. Nonetheless, fitting a linear model is simple and gives us a baseline to compare with more complex models in the future.\n",
    "\n",
    "Suppose that you were forced to pick one of the above models. Between `'age'` and `'steps'`, which predictor has higher prediction power? Save your response in the variable `model_choice`."
   ]
  },
  {
   "cell_type": "code",
   "execution_count": null,
   "metadata": {
    "deletable": false,
    "nbgrader": {
     "checksum": "1f58d3e684aeddb8f4f6da7da53ddec0",
     "grade": false,
     "grade_id": "model_choice",
     "locked": false,
     "schema_version": 1,
     "solution": true
    }
   },
   "outputs": [],
   "source": [
    "# YOUR CODE HERE\n",
    "raise NotImplementedError()"
   ]
  },
  {
   "cell_type": "code",
   "execution_count": null,
   "metadata": {
    "deletable": false,
    "editable": false,
    "nbgrader": {
     "checksum": "3e4cb59e0a163a3e000b991f9c10e8ec",
     "grade": true,
     "grade_id": "test_model_choice",
     "locked": true,
     "points": 0.5,
     "schema_version": 1,
     "solution": false
    }
   },
   "outputs": [],
   "source": [
    "assert model_choice\n",
    "assert model_choice in {'age', 'steps'}\n"
   ]
  },
  {
   "cell_type": "markdown",
   "metadata": {
    "deletable": false,
    "editable": false,
    "nbgrader": {
     "checksum": "134fe3be4538bbbba159c11171994d6c",
     "grade": false,
     "grade_id": "done",
     "locked": true,
     "schema_version": 1,
     "solution": false
    }
   },
   "source": [
    "## Done! Upload this notebook to TritonED"
   ]
  }
 ],
 "metadata": {
  "kernelspec": {
   "display_name": "Python 3",
   "language": "python",
   "name": "python3"
  },
  "language_info": {
   "codemirror_mode": {
    "name": "ipython",
    "version": 3
   },
   "file_extension": ".py",
   "mimetype": "text/x-python",
   "name": "python",
   "nbconvert_exporter": "python",
   "pygments_lexer": "ipython3",
   "version": "3.7.1"
  }
 },
 "nbformat": 4,
 "nbformat_minor": 2
}
